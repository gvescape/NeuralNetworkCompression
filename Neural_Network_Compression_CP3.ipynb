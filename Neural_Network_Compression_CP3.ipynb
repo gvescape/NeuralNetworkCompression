{
  "cells": [
    {
      "cell_type": "markdown",
      "metadata": {
        "id": "view-in-github",
        "colab_type": "text"
      },
      "source": [
        "<a href=\"https://colab.research.google.com/github/gvescape/NeuralNetworkCompression/blob/main/Neural_Network_Compression_CP3.ipynb\" target=\"_parent\"><img src=\"https://colab.research.google.com/assets/colab-badge.svg\" alt=\"Open In Colab\"/></a>"
      ]
    },
    {
      "cell_type": "markdown",
      "metadata": {
        "id": "Y4vRI0Slei2O"
      },
      "source": [
        "# Installing and importing required modules"
      ]
    },
    {
      "cell_type": "code",
      "execution_count": 1,
      "metadata": {
        "colab": {
          "base_uri": "https://localhost:8080/"
        },
        "id": "78kB_7YjHjn0",
        "outputId": "f464a414-b3b1-4165-8789-af504a457a1a"
      },
      "outputs": [
        {
          "output_type": "stream",
          "name": "stdout",
          "text": [
            "Collecting ipython-autotime\n",
            "  Downloading ipython_autotime-0.3.1-py2.py3-none-any.whl (6.8 kB)\n",
            "Requirement already satisfied: ipython in /usr/local/lib/python3.10/dist-packages (from ipython-autotime) (7.34.0)\n",
            "Requirement already satisfied: setuptools>=18.5 in /usr/local/lib/python3.10/dist-packages (from ipython->ipython-autotime) (67.7.2)\n",
            "Collecting jedi>=0.16 (from ipython->ipython-autotime)\n",
            "  Downloading jedi-0.19.0-py2.py3-none-any.whl (1.6 MB)\n",
            "\u001b[2K     \u001b[90m━━━━━━━━━━━━━━━━━━━━━━━━━━━━━━━━━━━━━━━━\u001b[0m \u001b[32m1.6/1.6 MB\u001b[0m \u001b[31m9.8 MB/s\u001b[0m eta \u001b[36m0:00:00\u001b[0m\n",
            "\u001b[?25hRequirement already satisfied: decorator in /usr/local/lib/python3.10/dist-packages (from ipython->ipython-autotime) (4.4.2)\n",
            "Requirement already satisfied: pickleshare in /usr/local/lib/python3.10/dist-packages (from ipython->ipython-autotime) (0.7.5)\n",
            "Requirement already satisfied: traitlets>=4.2 in /usr/local/lib/python3.10/dist-packages (from ipython->ipython-autotime) (5.7.1)\n",
            "Requirement already satisfied: prompt-toolkit!=3.0.0,!=3.0.1,<3.1.0,>=2.0.0 in /usr/local/lib/python3.10/dist-packages (from ipython->ipython-autotime) (3.0.39)\n",
            "Requirement already satisfied: pygments in /usr/local/lib/python3.10/dist-packages (from ipython->ipython-autotime) (2.16.1)\n",
            "Requirement already satisfied: backcall in /usr/local/lib/python3.10/dist-packages (from ipython->ipython-autotime) (0.2.0)\n",
            "Requirement already satisfied: matplotlib-inline in /usr/local/lib/python3.10/dist-packages (from ipython->ipython-autotime) (0.1.6)\n",
            "Requirement already satisfied: pexpect>4.3 in /usr/local/lib/python3.10/dist-packages (from ipython->ipython-autotime) (4.8.0)\n",
            "Requirement already satisfied: parso<0.9.0,>=0.8.3 in /usr/local/lib/python3.10/dist-packages (from jedi>=0.16->ipython->ipython-autotime) (0.8.3)\n",
            "Requirement already satisfied: ptyprocess>=0.5 in /usr/local/lib/python3.10/dist-packages (from pexpect>4.3->ipython->ipython-autotime) (0.7.0)\n",
            "Requirement already satisfied: wcwidth in /usr/local/lib/python3.10/dist-packages (from prompt-toolkit!=3.0.0,!=3.0.1,<3.1.0,>=2.0.0->ipython->ipython-autotime) (0.2.6)\n",
            "Installing collected packages: jedi, ipython-autotime\n",
            "Successfully installed ipython-autotime-0.3.1 jedi-0.19.0\n"
          ]
        }
      ],
      "source": [
        "!pip install ipython-autotime"
      ]
    },
    {
      "cell_type": "code",
      "execution_count": 2,
      "metadata": {
        "colab": {
          "base_uri": "https://localhost:8080/"
        },
        "id": "eKnoBAeD8Lsx",
        "outputId": "4f6a70a4-7d1a-4b51-8117-4db549e717a8"
      },
      "outputs": [
        {
          "output_type": "stream",
          "name": "stdout",
          "text": [
            "Collecting torch_pruning==0.2.6\n",
            "  Downloading torch_pruning-0.2.6-py3-none-any.whl (13 kB)\n",
            "Requirement already satisfied: torch in /usr/local/lib/python3.10/dist-packages (from torch_pruning==0.2.6) (2.0.1+cu118)\n",
            "Requirement already satisfied: filelock in /usr/local/lib/python3.10/dist-packages (from torch->torch_pruning==0.2.6) (3.12.2)\n",
            "Requirement already satisfied: typing-extensions in /usr/local/lib/python3.10/dist-packages (from torch->torch_pruning==0.2.6) (4.5.0)\n",
            "Requirement already satisfied: sympy in /usr/local/lib/python3.10/dist-packages (from torch->torch_pruning==0.2.6) (1.12)\n",
            "Requirement already satisfied: networkx in /usr/local/lib/python3.10/dist-packages (from torch->torch_pruning==0.2.6) (3.1)\n",
            "Requirement already satisfied: jinja2 in /usr/local/lib/python3.10/dist-packages (from torch->torch_pruning==0.2.6) (3.1.2)\n",
            "Requirement already satisfied: triton==2.0.0 in /usr/local/lib/python3.10/dist-packages (from torch->torch_pruning==0.2.6) (2.0.0)\n",
            "Requirement already satisfied: cmake in /usr/local/lib/python3.10/dist-packages (from triton==2.0.0->torch->torch_pruning==0.2.6) (3.27.4.1)\n",
            "Requirement already satisfied: lit in /usr/local/lib/python3.10/dist-packages (from triton==2.0.0->torch->torch_pruning==0.2.6) (16.0.6)\n",
            "Requirement already satisfied: MarkupSafe>=2.0 in /usr/local/lib/python3.10/dist-packages (from jinja2->torch->torch_pruning==0.2.6) (2.1.3)\n",
            "Requirement already satisfied: mpmath>=0.19 in /usr/local/lib/python3.10/dist-packages (from sympy->torch->torch_pruning==0.2.6) (1.3.0)\n",
            "Installing collected packages: torch_pruning\n",
            "Successfully installed torch_pruning-0.2.6\n"
          ]
        }
      ],
      "source": [
        "!pip install torch_pruning==0.2.6"
      ]
    },
    {
      "cell_type": "code",
      "execution_count": 3,
      "metadata": {
        "colab": {
          "base_uri": "https://localhost:8080/"
        },
        "id": "bnsyueTmRuFr",
        "outputId": "b3e24e35-704b-4df4-b511-074f8fad9f48"
      },
      "outputs": [
        {
          "output_type": "stream",
          "name": "stdout",
          "text": [
            "time: 334 µs (started: 2023-09-16 01:05:29 +00:00)\n"
          ]
        }
      ],
      "source": [
        "import numpy as np\n",
        "import matplotlib.pyplot as plt\n",
        "import torch\n",
        "from torch.utils.data import DataLoader\n",
        "import torch.optim as optim\n",
        "import torch.nn as nn\n",
        "from torchvision import models,transforms,datasets\n",
        "import torch.nn.utils.prune as prune\n",
        "from copy import deepcopy\n",
        "import torch_pruning as tp\n",
        "\n",
        "# To time everything\n",
        "%load_ext autotime"
      ]
    },
    {
      "cell_type": "code",
      "execution_count": 4,
      "metadata": {
        "colab": {
          "base_uri": "https://localhost:8080/"
        },
        "id": "XpLwZxqnkIvs",
        "outputId": "af0d0c4d-d237-4ada-9392-9d8b43435a0e"
      },
      "outputs": [
        {
          "output_type": "execute_result",
          "data": {
            "text/plain": [
              "device(type='cuda')"
            ]
          },
          "metadata": {},
          "execution_count": 4
        },
        {
          "output_type": "stream",
          "name": "stdout",
          "text": [
            "time: 148 ms (started: 2023-09-16 01:05:29 +00:00)\n"
          ]
        }
      ],
      "source": [
        "# Setting up GPU\n",
        "device = torch.device('cuda' if torch.cuda.is_available() else 'cpu')\n",
        "device"
      ]
    },
    {
      "cell_type": "markdown",
      "metadata": {
        "id": "7JU1Mfvde2AG"
      },
      "source": [
        "# Import CIFAR-100 and Resize"
      ]
    },
    {
      "cell_type": "code",
      "execution_count": 5,
      "metadata": {
        "colab": {
          "base_uri": "https://localhost:8080/"
        },
        "id": "_b0GiF4QUIqL",
        "outputId": "68243936-f6ba-4d7d-dd35-ebae050162a2"
      },
      "outputs": [
        {
          "output_type": "stream",
          "name": "stdout",
          "text": [
            "time: 12.3 ms (started: 2023-09-16 01:05:30 +00:00)\n"
          ]
        }
      ],
      "source": [
        "# Transforming the CIFAR100 train dataset and test dataset\n",
        "train_transform = transforms.Compose([transforms.Resize(64),\n",
        "                                   transforms.RandomHorizontalFlip(),\n",
        "                                   transforms.RandomRotation(15),\n",
        "                                   transforms.ToTensor(),\n",
        "                                   transforms.Normalize((0.48,0.4593,0.4155),(0.2774,0.2794,0.2794))])\n",
        "\n",
        "test_transform = transforms.Compose([transforms.Resize(64),\n",
        "                                  transforms.ToTensor(),\n",
        "                                  transforms.Normalize((0.48,0.4593,0.4155),(0.2774,0.2794,0.2794))])"
      ]
    },
    {
      "cell_type": "code",
      "execution_count": 6,
      "metadata": {
        "colab": {
          "base_uri": "https://localhost:8080/"
        },
        "id": "A9nbu4BoSSj_",
        "outputId": "689758a9-5d83-461a-8ece-751c0d9bf86c"
      },
      "outputs": [
        {
          "output_type": "stream",
          "name": "stdout",
          "text": [
            "Downloading https://www.cs.toronto.edu/~kriz/cifar-100-python.tar.gz to CIFAR100/cifar-100-python.tar.gz\n"
          ]
        },
        {
          "output_type": "stream",
          "name": "stderr",
          "text": [
            "100%|██████████| 169001437/169001437 [00:03<00:00, 42488150.03it/s]\n"
          ]
        },
        {
          "output_type": "stream",
          "name": "stdout",
          "text": [
            "Extracting CIFAR100/cifar-100-python.tar.gz to CIFAR100\n",
            "time: 10 s (started: 2023-09-16 01:05:30 +00:00)\n"
          ]
        }
      ],
      "source": [
        "train_data_set = datasets.CIFAR100(root = \"CIFAR100\", train = True, download = True, transform = train_transform)"
      ]
    },
    {
      "cell_type": "code",
      "execution_count": 7,
      "metadata": {
        "colab": {
          "base_uri": "https://localhost:8080/"
        },
        "id": "HrYMgq0mSXIP",
        "outputId": "13c2194e-4684-460d-f4c1-f84d609c3ac8"
      },
      "outputs": [
        {
          "output_type": "stream",
          "name": "stdout",
          "text": [
            "Files already downloaded and verified\n",
            "time: 1.02 s (started: 2023-09-16 01:05:40 +00:00)\n"
          ]
        }
      ],
      "source": [
        "test_data_set = datasets.CIFAR100(root = \"CIFAR100\", train = False, download = True, transform = test_transform)"
      ]
    },
    {
      "cell_type": "code",
      "execution_count": 8,
      "metadata": {
        "colab": {
          "base_uri": "https://localhost:8080/"
        },
        "id": "i5bLuLgL7zrF",
        "outputId": "53900961-071b-4839-c384-d68a274701a5"
      },
      "outputs": [
        {
          "output_type": "execute_result",
          "data": {
            "text/plain": [
              "torch.Size([3, 64, 64])"
            ]
          },
          "metadata": {},
          "execution_count": 8
        },
        {
          "output_type": "stream",
          "name": "stdout",
          "text": [
            "time: 125 ms (started: 2023-09-16 01:05:41 +00:00)\n"
          ]
        }
      ],
      "source": [
        "train_data_set[0][0].shape"
      ]
    },
    {
      "cell_type": "code",
      "execution_count": 9,
      "metadata": {
        "colab": {
          "base_uri": "https://localhost:8080/"
        },
        "id": "02RU0eKt73KQ",
        "outputId": "c4661a3e-d602-452f-fd5a-9d3575a780b9"
      },
      "outputs": [
        {
          "output_type": "execute_result",
          "data": {
            "text/plain": [
              "torch.Size([3, 64, 64])"
            ]
          },
          "metadata": {},
          "execution_count": 9
        },
        {
          "output_type": "stream",
          "name": "stdout",
          "text": [
            "time: 9.74 ms (started: 2023-09-16 01:05:41 +00:00)\n"
          ]
        }
      ],
      "source": [
        "test_data_set[0][0].shape"
      ]
    },
    {
      "cell_type": "markdown",
      "metadata": {
        "id": "2g65SO2tfYES"
      },
      "source": [
        "# VGG16"
      ]
    },
    {
      "cell_type": "code",
      "execution_count": 10,
      "metadata": {
        "colab": {
          "base_uri": "https://localhost:8080/"
        },
        "id": "0PJxLwDRvpPA",
        "outputId": "2dd4ebbf-ab3c-47fc-ec05-193afd1486d2"
      },
      "outputs": [
        {
          "output_type": "stream",
          "name": "stdout",
          "text": [
            "time: 765 µs (started: 2023-09-16 01:05:41 +00:00)\n"
          ]
        }
      ],
      "source": [
        "# Defining number of classes in the dataset\n",
        "n_classes = 100\n",
        "\n",
        "# Defining the Batch size for training\n",
        "batch_size = 64\n",
        "\n",
        "# Defining Number of epochs\n",
        "n_epochs = 15"
      ]
    },
    {
      "cell_type": "code",
      "execution_count": 11,
      "metadata": {
        "colab": {
          "base_uri": "https://localhost:8080/"
        },
        "id": "MdBM_c17kXNx",
        "outputId": "4a32c483-c015-4581-88ff-f1fa128c33e5"
      },
      "outputs": [
        {
          "output_type": "stream",
          "name": "stderr",
          "text": [
            "/usr/local/lib/python3.10/dist-packages/torchvision/models/_utils.py:208: UserWarning: The parameter 'pretrained' is deprecated since 0.13 and may be removed in the future, please use 'weights' instead.\n",
            "  warnings.warn(\n",
            "/usr/local/lib/python3.10/dist-packages/torchvision/models/_utils.py:223: UserWarning: Arguments other than a weight enum or `None` for 'weights' are deprecated since 0.13 and may be removed in the future. The current behavior is equivalent to passing `weights=VGG16_Weights.IMAGENET1K_V1`. You can also use `weights=VGG16_Weights.DEFAULT` to get the most up-to-date weights.\n",
            "  warnings.warn(msg)\n",
            "Downloading: \"https://download.pytorch.org/models/vgg16-397923af.pth\" to /root/.cache/torch/hub/checkpoints/vgg16-397923af.pth\n",
            "100%|██████████| 528M/528M [00:05<00:00, 108MB/s] \n"
          ]
        },
        {
          "output_type": "stream",
          "name": "stdout",
          "text": [
            "time: 12.9 s (started: 2023-09-16 01:05:41 +00:00)\n"
          ]
        }
      ],
      "source": [
        "vgg16_model = models.vgg16(pretrained = True) #130million+ parameters\n",
        "\n",
        "# set_parameter_requires_grad for classifier layers\n",
        "'''\n",
        "for param in vgg16_model.parameters():\n",
        "  param.requires_grad=False\n",
        "'''\n",
        "\n",
        "# Modifying last layer out classes\n",
        "vgg16_model.classifier[6].out_features = n_classes\n",
        "\n",
        "vgg16_model = vgg16_model.to(device)"
      ]
    },
    {
      "cell_type": "code",
      "execution_count": 12,
      "metadata": {
        "colab": {
          "base_uri": "https://localhost:8080/"
        },
        "id": "KlCn31Vefi1e",
        "outputId": "b5e58c3c-bb04-4468-cf2d-61d371074795"
      },
      "outputs": [
        {
          "output_type": "stream",
          "name": "stdout",
          "text": [
            "VGG(\n",
            "  (features): Sequential(\n",
            "    (0): Conv2d(3, 64, kernel_size=(3, 3), stride=(1, 1), padding=(1, 1))\n",
            "    (1): ReLU(inplace=True)\n",
            "    (2): Conv2d(64, 64, kernel_size=(3, 3), stride=(1, 1), padding=(1, 1))\n",
            "    (3): ReLU(inplace=True)\n",
            "    (4): MaxPool2d(kernel_size=2, stride=2, padding=0, dilation=1, ceil_mode=False)\n",
            "    (5): Conv2d(64, 128, kernel_size=(3, 3), stride=(1, 1), padding=(1, 1))\n",
            "    (6): ReLU(inplace=True)\n",
            "    (7): Conv2d(128, 128, kernel_size=(3, 3), stride=(1, 1), padding=(1, 1))\n",
            "    (8): ReLU(inplace=True)\n",
            "    (9): MaxPool2d(kernel_size=2, stride=2, padding=0, dilation=1, ceil_mode=False)\n",
            "    (10): Conv2d(128, 256, kernel_size=(3, 3), stride=(1, 1), padding=(1, 1))\n",
            "    (11): ReLU(inplace=True)\n",
            "    (12): Conv2d(256, 256, kernel_size=(3, 3), stride=(1, 1), padding=(1, 1))\n",
            "    (13): ReLU(inplace=True)\n",
            "    (14): Conv2d(256, 256, kernel_size=(3, 3), stride=(1, 1), padding=(1, 1))\n",
            "    (15): ReLU(inplace=True)\n",
            "    (16): MaxPool2d(kernel_size=2, stride=2, padding=0, dilation=1, ceil_mode=False)\n",
            "    (17): Conv2d(256, 512, kernel_size=(3, 3), stride=(1, 1), padding=(1, 1))\n",
            "    (18): ReLU(inplace=True)\n",
            "    (19): Conv2d(512, 512, kernel_size=(3, 3), stride=(1, 1), padding=(1, 1))\n",
            "    (20): ReLU(inplace=True)\n",
            "    (21): Conv2d(512, 512, kernel_size=(3, 3), stride=(1, 1), padding=(1, 1))\n",
            "    (22): ReLU(inplace=True)\n",
            "    (23): MaxPool2d(kernel_size=2, stride=2, padding=0, dilation=1, ceil_mode=False)\n",
            "    (24): Conv2d(512, 512, kernel_size=(3, 3), stride=(1, 1), padding=(1, 1))\n",
            "    (25): ReLU(inplace=True)\n",
            "    (26): Conv2d(512, 512, kernel_size=(3, 3), stride=(1, 1), padding=(1, 1))\n",
            "    (27): ReLU(inplace=True)\n",
            "    (28): Conv2d(512, 512, kernel_size=(3, 3), stride=(1, 1), padding=(1, 1))\n",
            "    (29): ReLU(inplace=True)\n",
            "    (30): MaxPool2d(kernel_size=2, stride=2, padding=0, dilation=1, ceil_mode=False)\n",
            "  )\n",
            "  (avgpool): AdaptiveAvgPool2d(output_size=(7, 7))\n",
            "  (classifier): Sequential(\n",
            "    (0): Linear(in_features=25088, out_features=4096, bias=True)\n",
            "    (1): ReLU(inplace=True)\n",
            "    (2): Dropout(p=0.5, inplace=False)\n",
            "    (3): Linear(in_features=4096, out_features=4096, bias=True)\n",
            "    (4): ReLU(inplace=True)\n",
            "    (5): Dropout(p=0.5, inplace=False)\n",
            "    (6): Linear(in_features=4096, out_features=100, bias=True)\n",
            "  )\n",
            ")\n",
            "time: 1.05 ms (started: 2023-09-16 01:05:54 +00:00)\n"
          ]
        }
      ],
      "source": [
        "# Printing VGG16 Model\n",
        "print(vgg16_model)"
      ]
    },
    {
      "cell_type": "markdown",
      "metadata": {
        "id": "jqx8S8jIe_pM"
      },
      "source": [
        "# Training"
      ]
    },
    {
      "cell_type": "code",
      "execution_count": 13,
      "metadata": {
        "colab": {
          "base_uri": "https://localhost:8080/"
        },
        "id": "nR8nsYZ_px8S",
        "outputId": "b317bde7-dcc9-4aca-8fc7-b51c6cc2a6d5"
      },
      "outputs": [
        {
          "output_type": "stream",
          "name": "stdout",
          "text": [
            "time: 1.71 ms (started: 2023-09-16 01:05:54 +00:00)\n"
          ]
        }
      ],
      "source": [
        "# To compute the cross entropy loss between input and target\n",
        "criterion = nn.CrossEntropyLoss()\n",
        "\n",
        "# To implement stochastic gradient descent and optimize the model\n",
        "sgd_optimizer = optim.SGD(vgg16_model.parameters(), lr = 0.003, momentum = 0.9)\n",
        "\n",
        "# Decays the learning rate of each parameter group by gamma every step_size epochs\n",
        "lr_scheduler = optim.lr_scheduler.StepLR(sgd_optimizer, step_size = 15, gamma = 0.1)\n",
        "\n",
        "# Defining a 'DataLoader' constructor, a Python iterable over a dataset\n",
        "train_dataloader  = DataLoader(train_data_set, batch_size = batch_size, shuffle = True)\n",
        "test_dataloader   = DataLoader(test_data_set, batch_size = batch_size, shuffle = True)"
      ]
    },
    {
      "cell_type": "code",
      "execution_count": 14,
      "metadata": {
        "colab": {
          "base_uri": "https://localhost:8080/"
        },
        "id": "M58bUMju28j4",
        "outputId": "95d5220b-c7d9-4b06-b395-7450e45b8bbc"
      },
      "outputs": [
        {
          "output_type": "stream",
          "name": "stdout",
          "text": [
            "time: 742 µs (started: 2023-09-16 01:05:54 +00:00)\n"
          ]
        }
      ],
      "source": [
        "# Method to train the model\n",
        "def fit(model, dataset, optimizer, scheduler, criterion):\n",
        "  # Set model to training mode\n",
        "  model.train()\n",
        "  if scheduler != None:\n",
        "    scheduler.step()\n",
        "  # Iterating over the data\n",
        "  for data, targets in dataset:\n",
        "    data    = data.to(device)\n",
        "    targets = targets.to(device)\n",
        "    # Reset the gradients\n",
        "    optimizer.zero_grad()\n",
        "    # Generate predictions\n",
        "    pred  = model(data)\n",
        "    # Calculate loss\n",
        "    loss  = criterion(pred, targets)\n",
        "    # Backpropagation\n",
        "    loss.backward()\n",
        "    # Update model parameters\n",
        "    optimizer.step()"
      ]
    },
    {
      "cell_type": "code",
      "execution_count": 15,
      "metadata": {
        "colab": {
          "base_uri": "https://localhost:8080/"
        },
        "id": "ZSPUrB5mperN",
        "outputId": "df206d2c-c067-40ea-a855-85fa6a6188a9"
      },
      "outputs": [
        {
          "output_type": "stream",
          "name": "stdout",
          "text": [
            "time: 1.06 ms (started: 2023-09-16 01:05:54 +00:00)\n"
          ]
        }
      ],
      "source": [
        "from os import pread\n",
        "# Method to validate the model\n",
        "def validate(model, dataset, criterion):\n",
        "  # Set model to evaluation mode\n",
        "  model.eval()\n",
        "  accuracy  = 0\n",
        "  loss      = []\n",
        "  for data, targets in dataset:\n",
        "    data    = data.to(device)\n",
        "    targets = targets.to(device)\n",
        "    pred    = model(data)\n",
        "    # Get loss\n",
        "    l = criterion(pred, targets)\n",
        "    loss.append(l.item())\n",
        "    # Get index of class label\n",
        "    _,preds = torch.max(pred.data,1)\n",
        "    # Get accuracy\n",
        "    accuracy += torch.sum(preds == targets).item()\n",
        "\n",
        "  return 100*accuracy/len(dataset.dataset), np.mean(np.array(loss))"
      ]
    },
    {
      "cell_type": "code",
      "execution_count": 16,
      "metadata": {
        "colab": {
          "base_uri": "https://localhost:8080/"
        },
        "id": "vCp8TFGSfzYx",
        "outputId": "b7e17f36-e14e-4fa5-cf58-a9abfaa11bf9"
      },
      "outputs": [
        {
          "output_type": "stream",
          "name": "stderr",
          "text": [
            "/usr/local/lib/python3.10/dist-packages/torch/optim/lr_scheduler.py:139: UserWarning: Detected call of `lr_scheduler.step()` before `optimizer.step()`. In PyTorch 1.1.0 and later, you should call them in the opposite order: `optimizer.step()` before `lr_scheduler.step()`.  Failure to do this will result in PyTorch skipping the first value of the learning rate schedule. See more details at https://pytorch.org/docs/stable/optim.html#how-to-adjust-learning-rate\n",
            "  warnings.warn(\"Detected call of `lr_scheduler.step()` before `optimizer.step()`. \"\n"
          ]
        },
        {
          "output_type": "stream",
          "name": "stdout",
          "text": [
            "Epoch: 1\t Train_Loss:2.5240\t Train_Acc:31.9760\t Test_Loss:2.5345\t Test_Acc:31.6500\n",
            "Epoch: 2\t Train_Loss:1.7365\t Train_Acc:51.0180\t Test_Loss:1.7924\t Test_Acc:49.8900\n",
            "Epoch: 3\t Train_Loss:1.3029\t Train_Acc:62.2120\t Test_Loss:1.4317\t Test_Acc:59.7700\n",
            "Epoch: 4\t Train_Loss:1.1139\t Train_Acc:67.4840\t Test_Loss:1.2697\t Test_Acc:63.5400\n",
            "Epoch: 5\t Train_Loss:0.9988\t Train_Acc:70.5940\t Test_Loss:1.2312\t Test_Acc:65.1700\n",
            "Epoch: 6\t Train_Loss:0.8610\t Train_Acc:74.1280\t Test_Loss:1.1853\t Test_Acc:66.8800\n",
            "Epoch: 7\t Train_Loss:0.7129\t Train_Acc:78.5580\t Test_Loss:1.1148\t Test_Acc:68.7300\n",
            "Epoch: 8\t Train_Loss:0.6703\t Train_Acc:79.5180\t Test_Loss:1.1000\t Test_Acc:69.3400\n",
            "Epoch: 9\t Train_Loss:0.5760\t Train_Acc:82.4400\t Test_Loss:1.0781\t Test_Acc:70.6300\n",
            "Epoch:10\t Train_Loss:0.5318\t Train_Acc:83.7880\t Test_Loss:1.0967\t Test_Acc:70.4300\n",
            "Epoch:11\t Train_Loss:0.5091\t Train_Acc:84.1840\t Test_Loss:1.1140\t Test_Acc:70.4100\n",
            "Epoch:12\t Train_Loss:0.4692\t Train_Acc:85.5220\t Test_Loss:1.1428\t Test_Acc:70.2600\n",
            "Epoch:13\t Train_Loss:0.3898\t Train_Acc:87.9240\t Test_Loss:1.0943\t Test_Acc:71.5200\n",
            "Epoch:14\t Train_Loss:0.3753\t Train_Acc:88.3820\t Test_Loss:1.1609\t Test_Acc:70.5700\n",
            "Epoch:15\t Train_Loss:0.1825\t Train_Acc:94.1280\t Test_Loss:1.0493\t Test_Acc:74.8200\n",
            "time: 35min 12s (started: 2023-09-16 01:05:54 +00:00)\n"
          ]
        }
      ],
      "source": [
        "train_loss  = []\n",
        "train_acc   = []\n",
        "test_loss   = []\n",
        "test_acc    = []\n",
        "epochs      = []\n",
        "epoch_value = 0\n",
        "\n",
        "# Loop for n_epochs\n",
        "for epoch in range(n_epochs):\n",
        "  # Fit model\n",
        "  fit(vgg16_model, train_dataloader, sgd_optimizer, lr_scheduler, criterion)\n",
        "\n",
        "  # Train validation\n",
        "  train_accuracy, train_lss = validate(vgg16_model, train_dataloader, criterion)\n",
        "  train_loss.append(train_lss)\n",
        "  train_acc.append(train_accuracy)\n",
        "\n",
        "  # Test validation\n",
        "  test_accuracy, test_lss = validate(vgg16_model, test_dataloader, criterion)\n",
        "  test_loss.append(test_lss)\n",
        "  test_acc.append(test_accuracy)\n",
        "\n",
        "  # Printing the epochs with\n",
        "  print(f'Epoch:{epoch+1:2.0f}\\t Train_Loss:{train_loss[-1]:.4f}\\t Train_Acc:{train_acc[-1]:.4f}\\t Test_Loss:{test_loss[-1]:.4f}\\t Test_Acc:{test_acc[-1]:.4f}')\n",
        "  epoch_value +=1\n",
        "  epochs.append(epoch_value)\n"
      ]
    },
    {
      "cell_type": "code",
      "execution_count": 17,
      "metadata": {
        "id": "LEOXNjZx29aV",
        "colab": {
          "base_uri": "https://localhost:8080/",
          "height": 540
        },
        "outputId": "5b89aa71-b82c-480c-c0ff-41d6ad739379"
      },
      "outputs": [
        {
          "output_type": "stream",
          "name": "stdout",
          "text": [
            "Test Loss:  [2.5344692142146408, 1.7924078604218308, 1.4316893588205812, 1.2696979364771752, 1.231214082165129, 1.1853279338520804, 1.11478802922425, 1.0999776519787539, 1.0780926677072125, 1.096722681431254, 1.1140102406216275, 1.1427601718219222, 1.094259397998737, 1.1609036159363522, 1.0493473532093558]\n",
            "Epochs:  [1, 2, 3, 4, 5, 6, 7, 8, 9, 10, 11, 12, 13, 14, 15]\n"
          ]
        },
        {
          "output_type": "execute_result",
          "data": {
            "text/plain": [
              "Text(0.5, 0, 'Test Loss')"
            ]
          },
          "metadata": {},
          "execution_count": 17
        },
        {
          "output_type": "display_data",
          "data": {
            "text/plain": [
              "<Figure size 640x480 with 1 Axes>"
            ],
            "image/png": "[encoded data removed]"
          },
          "metadata": {}
        },
        {
          "output_type": "stream",
          "name": "stdout",
          "text": [
            "time: 245 ms (started: 2023-09-16 01:41:07 +00:00)\n"
          ]
        }
      ],
      "source": [
        "# Plotting Epoch vs Test Loss\n",
        "print('Test Loss: ', test_loss)\n",
        "print('Epochs: ', epochs)\n",
        "\n",
        "plt.plot(test_loss, epochs)\n",
        "plt.ylabel('epochs')\n",
        "plt.xlabel('Test Loss')"
      ]
    },
    {
      "cell_type": "markdown",
      "metadata": {
        "id": "k-3zSFVjlwcS"
      },
      "source": [
        "# Save VGG16 Model"
      ]
    },
    {
      "cell_type": "code",
      "execution_count": 18,
      "metadata": {
        "id": "TJWa4V-2NmN2",
        "colab": {
          "base_uri": "https://localhost:8080/"
        },
        "outputId": "00bc9ed6-5985-4c9a-8ad5-3911115a2947"
      },
      "outputs": [
        {
          "output_type": "stream",
          "name": "stdout",
          "text": [
            "Mounted at /content/gdrive\n",
            "time: 11min 23s (started: 2023-09-16 01:41:07 +00:00)\n"
          ]
        }
      ],
      "source": [
        "# # Authorizing Google Drive\n",
        "from google.colab import drive\n",
        "drive.mount('/content/gdrive')"
      ]
    },
    {
      "cell_type": "code",
      "execution_count": 19,
      "metadata": {
        "id": "zvnigyGwdt_C",
        "colab": {
          "base_uri": "https://localhost:8080/"
        },
        "outputId": "95d780b2-fbc6-4333-84e6-166a00e63008"
      },
      "outputs": [
        {
          "output_type": "stream",
          "name": "stdout",
          "text": [
            "time: 1.94 s (started: 2023-09-16 01:52:31 +00:00)\n"
          ]
        }
      ],
      "source": [
        "# # Saving the model to Drive\n",
        "path = F\"VGG16(SGD)-v1.0\"\n",
        "torch.save(vgg16_model.state_dict(), path)"
      ]
    },
    {
      "cell_type": "code",
      "execution_count": 20,
      "metadata": {
        "id": "CEAkg3NU8sLG",
        "colab": {
          "base_uri": "https://localhost:8080/"
        },
        "outputId": "08b6897e-0aeb-4e64-c8b9-dc0cca029e9b"
      },
      "outputs": [
        {
          "output_type": "stream",
          "name": "stdout",
          "text": [
            "cuda\n",
            "time: 1.65 ms (started: 2023-09-16 01:52:33 +00:00)\n"
          ]
        }
      ],
      "source": [
        "# # Checking the GPU\n",
        "device = torch.device('cuda' if torch.cuda.is_available() else 'cpu')\n",
        "print(device)"
      ]
    },
    {
      "cell_type": "markdown",
      "metadata": {
        "id": "kqgGbibD82sP"
      },
      "source": [
        "# Important Functions"
      ]
    },
    {
      "cell_type": "code",
      "execution_count": 21,
      "metadata": {
        "id": "QQwrIpKDZWE6",
        "colab": {
          "base_uri": "https://localhost:8080/"
        },
        "outputId": "156709f8-6c3d-412d-fb93-14a60b8f3ed4"
      },
      "outputs": [
        {
          "output_type": "stream",
          "name": "stdout",
          "text": [
            "time: 645 µs (started: 2023-09-16 01:52:33 +00:00)\n"
          ]
        }
      ],
      "source": [
        "# Method to remove parameters\n",
        "def remove_parameters(model):\n",
        "    for module_name, module in model.named_modules():\n",
        "        if isinstance(module, torch.nn.Conv2d):\n",
        "            try:\n",
        "                prune.remove(module, \"weight\")\n",
        "            except:\n",
        "                pass\n",
        "            try:\n",
        "                prune.remove(module, \"bias\")\n",
        "            except:\n",
        "                pass\n",
        "        elif isinstance(module, torch.nn.Linear):\n",
        "            try:\n",
        "                prune.remove(module, \"weight\")\n",
        "            except:\n",
        "                pass\n",
        "            try:\n",
        "                prune.remove(module, \"bias\")\n",
        "            except:\n",
        "                pass\n",
        "    return model"
      ]
    },
    {
      "cell_type": "code",
      "execution_count": 22,
      "metadata": {
        "id": "bSzCYD1q9TBo",
        "colab": {
          "base_uri": "https://localhost:8080/"
        },
        "outputId": "d8b8c1ec-df85-43f0-f891-804c572b1e7e"
      },
      "outputs": [
        {
          "output_type": "stream",
          "name": "stdout",
          "text": [
            "time: 658 µs (started: 2023-09-16 01:52:33 +00:00)\n"
          ]
        }
      ],
      "source": [
        "# Method for unstructured pruning\n",
        "def unstructured_global_pruning(model, amount):\n",
        "  pruning_model = deepcopy(model)\n",
        "  pruning_model = pruning_model.to(device)\n",
        "\n",
        "  parameters_to_prune = []\n",
        "  for module_name, module in pruning_model.named_modules():\n",
        "      if isinstance(module, torch.nn.Conv2d) or isinstance(module, torch.nn.Linear):\n",
        "          parameters_to_prune.append((module, \"weight\"))\n",
        "\n",
        "  prune.global_unstructured(\n",
        "      parameters = parameters_to_prune,\n",
        "      pruning_method = prune.L1Unstructured,\n",
        "      amount = amount)\n",
        "\n",
        "  pruning_model = remove_parameters(model = pruning_model)\n",
        "\n",
        "  return pruning_model"
      ]
    },
    {
      "cell_type": "code",
      "execution_count": 23,
      "metadata": {
        "id": "nbkNBCX_eR0p",
        "colab": {
          "base_uri": "https://localhost:8080/"
        },
        "outputId": "c3fc6d57-b436-4ba4-89b1-8e656cf572fc"
      },
      "outputs": [
        {
          "output_type": "stream",
          "name": "stdout",
          "text": [
            "time: 470 µs (started: 2023-09-16 01:52:33 +00:00)\n"
          ]
        }
      ],
      "source": [
        "# Method to evaluated the loss and accuracy of the model\n",
        "def evaluate(model, dataloader):\n",
        "  model.eval()\n",
        "  acc = 0\n",
        "  loss = []\n",
        "  for data, targets in dataloader:\n",
        "    data = data.to(device)\n",
        "    targets = targets.to(device)\n",
        "    out = model(data)\n",
        "    #Get loss\n",
        "    l = criterion(out, targets)\n",
        "    loss.append(l.item())\n",
        "    #Get index of class label\n",
        "    _,preds = torch.max(out.data,1)\n",
        "    #Get accuracy\n",
        "    acc += torch.sum(preds == targets).item()\n",
        "\n",
        "  return 100*acc/len(dataloader.dataset), np.mean(np.array(loss))"
      ]
    },
    {
      "cell_type": "code",
      "execution_count": 24,
      "metadata": {
        "id": "cix42KgylY9T",
        "colab": {
          "base_uri": "https://localhost:8080/"
        },
        "outputId": "c3e7a115-473d-4f1c-fed9-07da59e9c5f0"
      },
      "outputs": [
        {
          "output_type": "stream",
          "name": "stdout",
          "text": [
            "time: 759 µs (started: 2023-09-16 01:52:33 +00:00)\n"
          ]
        }
      ],
      "source": [
        "# Method to measure module sparsity\n",
        "def measure_module_sparsity(module, weight=True, bias=False, use_mask=False):\n",
        "    n_zeros = 0\n",
        "    n_elements = 0\n",
        "    if use_mask == True:\n",
        "        for buffer_name, buffer in module.named_buffers():\n",
        "            if \"weight_mask\" in buffer_name and weight == True:\n",
        "                n_zeros += torch.sum(buffer == 0).item()\n",
        "                n_elements += buffer.nelement()\n",
        "            if \"bias_mask\" in buffer_name and bias == True:\n",
        "                n_zeros += torch.sum(buffer == 0).item()\n",
        "                n_elements += buffer.nelement()\n",
        "    else:\n",
        "        for param_name, param in module.named_parameters():\n",
        "            if \"weight\" in param_name and weight == True:\n",
        "                n_zeros += torch.sum(param == 0).item()\n",
        "                n_elements += param.nelement()\n",
        "            if \"bias\" in param_name and bias == True:\n",
        "                n_zeros += torch.sum(param == 0).item()\n",
        "                n_elements += param.nelement()\n",
        "\n",
        "    sparsity = n_zeros / n_elements\n",
        "\n",
        "    return n_zeros, n_elements, sparsity"
      ]
    },
    {
      "cell_type": "code",
      "execution_count": 25,
      "metadata": {
        "id": "t7VZof8tlUlB",
        "colab": {
          "base_uri": "https://localhost:8080/"
        },
        "outputId": "d953755f-3722-4dc9-e245-5a7f2d959acd"
      },
      "outputs": [
        {
          "output_type": "stream",
          "name": "stdout",
          "text": [
            "time: 424 µs (started: 2023-09-16 01:52:33 +00:00)\n"
          ]
        }
      ],
      "source": [
        "# Method to measure Global sparsity\n",
        "def measure_global_sparsity(model,\n",
        "                            weight=True,\n",
        "                            bias=False,\n",
        "                            conv2d_use_mask=False,\n",
        "                            linear_use_mask=False):\n",
        "\n",
        "    n_zeros = 0\n",
        "    n_elements = 0\n",
        "\n",
        "    for module_name, module in model.named_modules():\n",
        "\n",
        "        if isinstance(module, torch.nn.Conv2d):\n",
        "\n",
        "            module_num_zeros, module_num_elements, _ = measure_module_sparsity(\n",
        "                module, weight=weight, bias=bias, use_mask=conv2d_use_mask)\n",
        "            n_zeros += module_num_zeros\n",
        "            n_elements += module_num_elements\n",
        "\n",
        "        elif isinstance(module, torch.nn.Linear):\n",
        "\n",
        "            module_num_zeros, module_num_elements, _ = measure_module_sparsity(\n",
        "                module, weight=weight, bias=bias, use_mask=linear_use_mask)\n",
        "            n_zeros += module_num_zeros\n",
        "            n_elements += module_num_elements\n",
        "\n",
        "    sparsity = n_zeros / n_elements\n",
        "\n",
        "    return n_zeros, n_elements, sparsity"
      ]
    },
    {
      "cell_type": "code",
      "execution_count": 26,
      "metadata": {
        "id": "ex3br4BbzoiF",
        "colab": {
          "base_uri": "https://localhost:8080/"
        },
        "outputId": "5ded418a-c7c0-4d96-93dd-781885ebbfe8"
      },
      "outputs": [
        {
          "output_type": "stream",
          "name": "stdout",
          "text": [
            "time: 565 µs (started: 2023-09-16 01:52:33 +00:00)\n"
          ]
        }
      ],
      "source": [
        "# Defining a 'DataLoader' constructor, a Python iterable over a dataset\n",
        "train_dataloader = DataLoader(train_data_set, batch_size = batch_size, shuffle = True)\n",
        "test_dataloader = DataLoader(test_data_set, batch_size = batch_size)"
      ]
    },
    {
      "cell_type": "markdown",
      "metadata": {
        "id": "BnSK_srGc5sz"
      },
      "source": [
        "# Import Model to be Pruned"
      ]
    },
    {
      "cell_type": "code",
      "execution_count": 27,
      "metadata": {
        "id": "GjAXLxMTcdds",
        "colab": {
          "base_uri": "https://localhost:8080/"
        },
        "outputId": "e7cb19c6-59c5-4d0c-fa4d-07ea25c0c09e"
      },
      "outputs": [
        {
          "output_type": "stream",
          "name": "stderr",
          "text": [
            "/usr/local/lib/python3.10/dist-packages/torchvision/models/_utils.py:223: UserWarning: Arguments other than a weight enum or `None` for 'weights' are deprecated since 0.13 and may be removed in the future. The current behavior is equivalent to passing `weights=None`.\n",
            "  warnings.warn(msg)\n"
          ]
        },
        {
          "output_type": "stream",
          "name": "stdout",
          "text": [
            "time: 2.19 s (started: 2023-09-16 01:52:33 +00:00)\n"
          ]
        }
      ],
      "source": [
        "vgg16_model = models.vgg16(pretrained = False)\n",
        "vgg16_model.classifier[6].out_features = n_classes"
      ]
    },
    {
      "cell_type": "code",
      "execution_count": 28,
      "metadata": {
        "id": "W5x4AIAdPZh7",
        "colab": {
          "base_uri": "https://localhost:8080/"
        },
        "outputId": "7aba7e31-2dd2-4072-d40e-267144588178"
      },
      "outputs": [
        {
          "output_type": "stream",
          "name": "stdout",
          "text": [
            "Drive already mounted at /content/gdrive; to attempt to forcibly remount, call drive.mount(\"/content/gdrive\", force_remount=True).\n",
            "time: 756 ms (started: 2023-09-16 01:52:35 +00:00)\n"
          ]
        }
      ],
      "source": [
        "from google.colab import drive\n",
        "drive.mount('/content/gdrive')"
      ]
    },
    {
      "cell_type": "code",
      "execution_count": 29,
      "metadata": {
        "id": "4RRfINk5cFWP",
        "colab": {
          "base_uri": "https://localhost:8080/"
        },
        "outputId": "ae00082b-7c59-41e3-98f4-474c03a8447d"
      },
      "outputs": [
        {
          "output_type": "execute_result",
          "data": {
            "text/plain": [
              "<All keys matched successfully>"
            ]
          },
          "metadata": {},
          "execution_count": 29
        },
        {
          "output_type": "stream",
          "name": "stdout",
          "text": [
            "time: 556 ms (started: 2023-09-16 01:52:36 +00:00)\n"
          ]
        }
      ],
      "source": [
        "vgg16_model.load_state_dict(torch.load('VGG16(SGD)-v1.0'))"
      ]
    },
    {
      "cell_type": "code",
      "execution_count": 30,
      "metadata": {
        "id": "VV9kpO1OVHvu",
        "colab": {
          "base_uri": "https://localhost:8080/"
        },
        "outputId": "12480d80-a44c-47ab-a8f6-e989738e7091"
      },
      "outputs": [
        {
          "output_type": "execute_result",
          "data": {
            "text/plain": [
              "VGG(\n",
              "  (features): Sequential(\n",
              "    (0): Conv2d(3, 64, kernel_size=(3, 3), stride=(1, 1), padding=(1, 1))\n",
              "    (1): ReLU(inplace=True)\n",
              "    (2): Conv2d(64, 64, kernel_size=(3, 3), stride=(1, 1), padding=(1, 1))\n",
              "    (3): ReLU(inplace=True)\n",
              "    (4): MaxPool2d(kernel_size=2, stride=2, padding=0, dilation=1, ceil_mode=False)\n",
              "    (5): Conv2d(64, 128, kernel_size=(3, 3), stride=(1, 1), padding=(1, 1))\n",
              "    (6): ReLU(inplace=True)\n",
              "    (7): Conv2d(128, 128, kernel_size=(3, 3), stride=(1, 1), padding=(1, 1))\n",
              "    (8): ReLU(inplace=True)\n",
              "    (9): MaxPool2d(kernel_size=2, stride=2, padding=0, dilation=1, ceil_mode=False)\n",
              "    (10): Conv2d(128, 256, kernel_size=(3, 3), stride=(1, 1), padding=(1, 1))\n",
              "    (11): ReLU(inplace=True)\n",
              "    (12): Conv2d(256, 256, kernel_size=(3, 3), stride=(1, 1), padding=(1, 1))\n",
              "    (13): ReLU(inplace=True)\n",
              "    (14): Conv2d(256, 256, kernel_size=(3, 3), stride=(1, 1), padding=(1, 1))\n",
              "    (15): ReLU(inplace=True)\n",
              "    (16): MaxPool2d(kernel_size=2, stride=2, padding=0, dilation=1, ceil_mode=False)\n",
              "    (17): Conv2d(256, 512, kernel_size=(3, 3), stride=(1, 1), padding=(1, 1))\n",
              "    (18): ReLU(inplace=True)\n",
              "    (19): Conv2d(512, 512, kernel_size=(3, 3), stride=(1, 1), padding=(1, 1))\n",
              "    (20): ReLU(inplace=True)\n",
              "    (21): Conv2d(512, 512, kernel_size=(3, 3), stride=(1, 1), padding=(1, 1))\n",
              "    (22): ReLU(inplace=True)\n",
              "    (23): MaxPool2d(kernel_size=2, stride=2, padding=0, dilation=1, ceil_mode=False)\n",
              "    (24): Conv2d(512, 512, kernel_size=(3, 3), stride=(1, 1), padding=(1, 1))\n",
              "    (25): ReLU(inplace=True)\n",
              "    (26): Conv2d(512, 512, kernel_size=(3, 3), stride=(1, 1), padding=(1, 1))\n",
              "    (27): ReLU(inplace=True)\n",
              "    (28): Conv2d(512, 512, kernel_size=(3, 3), stride=(1, 1), padding=(1, 1))\n",
              "    (29): ReLU(inplace=True)\n",
              "    (30): MaxPool2d(kernel_size=2, stride=2, padding=0, dilation=1, ceil_mode=False)\n",
              "  )\n",
              "  (avgpool): AdaptiveAvgPool2d(output_size=(7, 7))\n",
              "  (classifier): Sequential(\n",
              "    (0): Linear(in_features=25088, out_features=4096, bias=True)\n",
              "    (1): ReLU(inplace=True)\n",
              "    (2): Dropout(p=0.5, inplace=False)\n",
              "    (3): Linear(in_features=4096, out_features=4096, bias=True)\n",
              "    (4): ReLU(inplace=True)\n",
              "    (5): Dropout(p=0.5, inplace=False)\n",
              "    (6): Linear(in_features=4096, out_features=100, bias=True)\n",
              "  )\n",
              ")"
            ]
          },
          "metadata": {},
          "execution_count": 30
        },
        {
          "output_type": "stream",
          "name": "stdout",
          "text": [
            "time: 154 ms (started: 2023-09-16 01:52:37 +00:00)\n"
          ]
        }
      ],
      "source": [
        "device = torch.device(\"cuda\") if torch.cuda.is_available() else torch.device(\"cpu\")\n",
        "vgg16_model.to(device)"
      ]
    },
    {
      "cell_type": "code",
      "execution_count": 31,
      "metadata": {
        "id": "hLt64_teaLKi",
        "colab": {
          "base_uri": "https://localhost:8080/"
        },
        "outputId": "4d25fcef-5eee-4a69-f457-43cfb3331328"
      },
      "outputs": [
        {
          "output_type": "execute_result",
          "data": {
            "text/plain": [
              "True"
            ]
          },
          "metadata": {},
          "execution_count": 31
        },
        {
          "output_type": "stream",
          "name": "stdout",
          "text": [
            "time: 6.12 ms (started: 2023-09-16 01:52:37 +00:00)\n"
          ]
        }
      ],
      "source": [
        "next(vgg16_model.parameters()).is_cuda"
      ]
    },
    {
      "cell_type": "code",
      "execution_count": 32,
      "metadata": {
        "id": "UkulfarCP4q0",
        "colab": {
          "base_uri": "https://localhost:8080/"
        },
        "outputId": "9cd10615-b226-4a09-838b-c9096e341860"
      },
      "outputs": [
        {
          "output_type": "stream",
          "name": "stdout",
          "text": [
            "Global Sparsity:\n",
            "0.00\n",
            "time: 16 ms (started: 2023-09-16 01:52:37 +00:00)\n"
          ]
        }
      ],
      "source": [
        "# Measuring Global Sparsity for VGG16 Model\n",
        "num_zeros, num_elements, sparsity = measure_global_sparsity(\n",
        "            vgg16_model,\n",
        "            weight=True,\n",
        "            bias=False,\n",
        "            conv2d_use_mask=False,\n",
        "            linear_use_mask=False)\n",
        "\n",
        "print(\"Global Sparsity:\")\n",
        "print(\"{:.2f}\".format(sparsity))"
      ]
    },
    {
      "cell_type": "markdown",
      "metadata": {
        "id": "q_Spz6ttbBa8"
      },
      "source": [
        "# Unstructured Pruning"
      ]
    },
    {
      "cell_type": "code",
      "execution_count": 33,
      "metadata": {
        "id": "0Z3kdi6SiCj0",
        "colab": {
          "base_uri": "https://localhost:8080/"
        },
        "outputId": "cccb5c72-0cc6-4075-d153-a679c1e6c5e3"
      },
      "outputs": [
        {
          "output_type": "stream",
          "name": "stdout",
          "text": [
            "time: 463 ms (started: 2023-09-16 01:52:37 +00:00)\n"
          ]
        }
      ],
      "source": [
        "ustp_model = unstructured_global_pruning(vgg16_model, 0.8)"
      ]
    },
    {
      "cell_type": "code",
      "execution_count": 34,
      "metadata": {
        "id": "mmWLpJeUTxms",
        "colab": {
          "base_uri": "https://localhost:8080/"
        },
        "outputId": "2923af87-3fa3-427b-a7b6-30f5d5d453fd"
      },
      "outputs": [
        {
          "output_type": "execute_result",
          "data": {
            "text/plain": [
              "True"
            ]
          },
          "metadata": {},
          "execution_count": 34
        },
        {
          "output_type": "stream",
          "name": "stdout",
          "text": [
            "time: 2.7 ms (started: 2023-09-16 01:52:37 +00:00)\n"
          ]
        }
      ],
      "source": [
        "next(ustp_model.parameters()).is_cuda"
      ]
    },
    {
      "cell_type": "code",
      "execution_count": 35,
      "metadata": {
        "id": "cOMgxIUI58Vb",
        "colab": {
          "base_uri": "https://localhost:8080/"
        },
        "outputId": "45cc80ca-036d-48ee-df11-32c244e14d10"
      },
      "outputs": [
        {
          "output_type": "stream",
          "name": "stdout",
          "text": [
            "Accuracy :  73.54 \tLoss :  1.1236315794811127\n",
            "time: 9.2 s (started: 2023-09-16 01:52:37 +00:00)\n"
          ]
        }
      ],
      "source": [
        "acc, loss = evaluate(ustp_model, test_dataloader)\n",
        "print('Accuracy : ',acc , '\\tLoss : ', loss)"
      ]
    },
    {
      "cell_type": "code",
      "execution_count": 36,
      "metadata": {
        "id": "6vxBPg2xoE9c",
        "colab": {
          "base_uri": "https://localhost:8080/"
        },
        "outputId": "e040d369-f138-45ee-87e1-b828ccedbaff"
      },
      "outputs": [
        {
          "output_type": "stream",
          "name": "stdout",
          "text": [
            "Global Sparsity:\n",
            "0.80\n",
            "time: 17.7 ms (started: 2023-09-16 01:52:46 +00:00)\n"
          ]
        }
      ],
      "source": [
        "# Measuring Global Sparsity for Unstructured Pruning Model\n",
        "num_zeros, num_elements, sparsity = measure_global_sparsity(\n",
        "            ustp_model,\n",
        "            weight  = True,\n",
        "            bias    = False,\n",
        "            conv2d_use_mask = False,\n",
        "            linear_use_mask = False)\n",
        "\n",
        "print(\"Global Sparsity:\")\n",
        "print(\"{:.2f}\".format(sparsity))"
      ]
    },
    {
      "cell_type": "code",
      "execution_count": 37,
      "metadata": {
        "id": "6_kxpO_NYh1L",
        "colab": {
          "base_uri": "https://localhost:8080/"
        },
        "outputId": "5ceb766a-5f2b-4641-d3be-ec148c4539ec"
      },
      "outputs": [
        {
          "output_type": "stream",
          "name": "stdout",
          "text": [
            "Layer 0 57 1728 0.03298611111111111\n",
            "Layer 1 6075 36864 0.164794921875\n",
            "Layer 2 12506 73728 0.1696234809027778\n",
            "Layer 3 29069 147456 0.1971367730034722\n",
            "Layer 4 67911 294912 0.23027547200520834\n",
            "Layer 5 163834 589824 0.2777676052517361\n",
            "Layer 6 159323 589824 0.2701195610894097\n",
            "Layer 7 372181 1179648 0.31550174289279515\n",
            "Layer 8 928198 2359296 0.39342159695095485\n",
            "Layer 9 935066 2359296 0.39633263481987846\n",
            "Layer 10 897075 2359296 0.3802299499511719\n",
            "Layer 11 906243 2359296 0.38411585489908856\n",
            "Layer 12 994727 2359296 0.4216202629937066\n",
            "Layer 13 93592117 102760448 0.9107795734794772\n",
            "Layer 14 10159473 16777216 0.6055517792701721\n",
            "Layer 15 1451447 4096000 0.354357177734375\n",
            "time: 42.8 ms (started: 2023-09-16 01:52:46 +00:00)\n"
          ]
        }
      ],
      "source": [
        "# Measuring Sparsity for each layer\n",
        "sparsity_layer = []\n",
        "i = 0\n",
        "layer = []\n",
        "for module_name, module in ustp_model.named_modules():\n",
        "  if isinstance(module, torch.nn.Conv2d) or isinstance(module, torch.nn.Linear):\n",
        "    num_zeros, num_elements, sparsity = measure_module_sparsity(module, weight=True, bias=False, use_mask=False)\n",
        "    print('Layer', i , num_zeros, num_elements, sparsity)\n",
        "    sparsity_layer.append(sparsity)\n",
        "    layer.append(i)\n",
        "    i+= 1"
      ]
    },
    {
      "cell_type": "code",
      "execution_count": 38,
      "metadata": {
        "id": "qAzducc9mzPV",
        "colab": {
          "base_uri": "https://localhost:8080/",
          "height": 540
        },
        "outputId": "0cd11096-442c-4180-d121-82eb4bde1e35"
      },
      "outputs": [
        {
          "output_type": "stream",
          "name": "stdout",
          "text": [
            "Sparsity:  [0.03298611111111111, 0.164794921875, 0.1696234809027778, 0.1971367730034722, 0.23027547200520834, 0.2777676052517361, 0.2701195610894097, 0.31550174289279515, 0.39342159695095485, 0.39633263481987846, 0.3802299499511719, 0.38411585489908856, 0.4216202629937066, 0.9107795734794772, 0.6055517792701721, 0.354357177734375]\n",
            "Layers:  [0, 1, 2, 3, 4, 5, 6, 7, 8, 9, 10, 11, 12, 13, 14, 15]\n"
          ]
        },
        {
          "output_type": "execute_result",
          "data": {
            "text/plain": [
              "Text(0.5, 0, 'Sparsity')"
            ]
          },
          "metadata": {},
          "execution_count": 38
        },
        {
          "output_type": "display_data",
          "data": {
            "text/plain": [
              "<Figure size 640x480 with 1 Axes>"
            ],
            "image/png": "[encoded data removed]"
          },
          "metadata": {}
        },
        {
          "output_type": "stream",
          "name": "stdout",
          "text": [
            "time: 229 ms (started: 2023-09-16 01:52:47 +00:00)\n"
          ]
        }
      ],
      "source": [
        "# Plotting Sparsity vs Layers\n",
        "print('Sparsity: ', sparsity_layer)\n",
        "print('Layers: ', layer)\n",
        "\n",
        "plt.plot(sparsity_layer, layer)\n",
        "plt.ylabel('Layers')\n",
        "plt.xlabel('Sparsity')"
      ]
    },
    {
      "cell_type": "markdown",
      "metadata": {
        "id": "K2gcgjXMW8hh"
      },
      "source": [
        "# Structured Pruning"
      ]
    },
    {
      "cell_type": "code",
      "execution_count": 39,
      "metadata": {
        "id": "REZCXJHUnxYP",
        "colab": {
          "base_uri": "https://localhost:8080/"
        },
        "outputId": "c572b97f-6d20-4106-dc89-7e6d04d8e164"
      },
      "outputs": [
        {
          "output_type": "stream",
          "name": "stdout",
          "text": [
            "time: 975 µs (started: 2023-09-16 01:52:47 +00:00)\n"
          ]
        }
      ],
      "source": [
        "def structured_pruning(model, sparsity_layer):\n",
        "  prune_model = deepcopy(model)\n",
        "  prune_model = prune_model.to(device)\n",
        "\n",
        "  prunable_module_type = (nn.Conv2d, nn.Linear)\n",
        "  prunable_modules = [ m for m in prune_model.modules() if isinstance(m, prunable_module_type) ]\n",
        "\n",
        "  strategy = tp.strategy.L1Strategy()\n",
        "  DG = tp.DependencyGraph().build_dependency(prune_model, example_inputs = torch.randn(1,3,64,64))\n",
        "\n",
        "  i = 0\n",
        "  for layer_to_prune in prunable_modules:\n",
        "    if isinstance( layer_to_prune, nn.Conv2d ):\n",
        "        prune_fn = tp.prune_conv\n",
        "    elif isinstance(layer_to_prune, nn.Linear):\n",
        "        prune_fn = tp.prune_linear\n",
        "\n",
        "    pruning_idxs = strategy(layer_to_prune.weight, amount = sparsity_layer[i])\n",
        "    plan = DG.get_pruning_plan( layer_to_prune, prune_fn, pruning_idxs)\n",
        "\n",
        "    i += 1\n",
        "\n",
        "    plan.exec()\n",
        "\n",
        "  return prune_model"
      ]
    },
    {
      "cell_type": "code",
      "execution_count": 40,
      "metadata": {
        "id": "fYaA2EqEoX1B",
        "colab": {
          "base_uri": "https://localhost:8080/"
        },
        "outputId": "696904bb-2c89-4606-9852-bdb8a4be8f9a"
      },
      "outputs": [
        {
          "output_type": "stream",
          "name": "stdout",
          "text": [
            "time: 1.6 s (started: 2023-09-16 01:52:47 +00:00)\n"
          ]
        }
      ],
      "source": [
        "stp_model = structured_pruning(ustp_model, sparsity_layer)"
      ]
    },
    {
      "cell_type": "code",
      "execution_count": 41,
      "metadata": {
        "id": "gUwrae7YofpJ",
        "colab": {
          "base_uri": "https://localhost:8080/"
        },
        "outputId": "4267106e-a0cb-4629-fabe-2a70774d7836"
      },
      "outputs": [
        {
          "output_type": "execute_result",
          "data": {
            "text/plain": [
              "12169055"
            ]
          },
          "metadata": {},
          "execution_count": 41
        },
        {
          "output_type": "stream",
          "name": "stdout",
          "text": [
            "time: 4.67 ms (started: 2023-09-16 01:52:48 +00:00)\n"
          ]
        }
      ],
      "source": [
        "tp.utils.count_params(stp_model)"
      ]
    },
    {
      "cell_type": "code",
      "execution_count": 42,
      "metadata": {
        "id": "XxcVZmJFokBK",
        "colab": {
          "base_uri": "https://localhost:8080/"
        },
        "outputId": "882cb2f2-7a73-4259-a2f0-0d6d25504cc0"
      },
      "outputs": [
        {
          "output_type": "stream",
          "name": "stdout",
          "text": [
            "VGG(\n",
            "  (features): Sequential(\n",
            "    (0): Conv2d(3, 62, kernel_size=(3, 3), stride=(1, 1), padding=(1, 1))\n",
            "    (1): ReLU(inplace=True)\n",
            "    (2): Conv2d(62, 54, kernel_size=(3, 3), stride=(1, 1), padding=(1, 1))\n",
            "    (3): ReLU(inplace=True)\n",
            "    (4): MaxPool2d(kernel_size=2, stride=2, padding=0, dilation=1, ceil_mode=False)\n",
            "    (5): Conv2d(54, 107, kernel_size=(3, 3), stride=(1, 1), padding=(1, 1))\n",
            "    (6): ReLU(inplace=True)\n",
            "    (7): Conv2d(107, 103, kernel_size=(3, 3), stride=(1, 1), padding=(1, 1))\n",
            "    (8): ReLU(inplace=True)\n",
            "    (9): MaxPool2d(kernel_size=2, stride=2, padding=0, dilation=1, ceil_mode=False)\n",
            "    (10): Conv2d(103, 198, kernel_size=(3, 3), stride=(1, 1), padding=(1, 1))\n",
            "    (11): ReLU(inplace=True)\n",
            "    (12): Conv2d(198, 185, kernel_size=(3, 3), stride=(1, 1), padding=(1, 1))\n",
            "    (13): ReLU(inplace=True)\n",
            "    (14): Conv2d(185, 187, kernel_size=(3, 3), stride=(1, 1), padding=(1, 1))\n",
            "    (15): ReLU(inplace=True)\n",
            "    (16): MaxPool2d(kernel_size=2, stride=2, padding=0, dilation=1, ceil_mode=False)\n",
            "    (17): Conv2d(187, 351, kernel_size=(3, 3), stride=(1, 1), padding=(1, 1))\n",
            "    (18): ReLU(inplace=True)\n",
            "    (19): Conv2d(351, 311, kernel_size=(3, 3), stride=(1, 1), padding=(1, 1))\n",
            "    (20): ReLU(inplace=True)\n",
            "    (21): Conv2d(311, 310, kernel_size=(3, 3), stride=(1, 1), padding=(1, 1))\n",
            "    (22): ReLU(inplace=True)\n",
            "    (23): MaxPool2d(kernel_size=2, stride=2, padding=0, dilation=1, ceil_mode=False)\n",
            "    (24): Conv2d(310, 318, kernel_size=(3, 3), stride=(1, 1), padding=(1, 1))\n",
            "    (25): ReLU(inplace=True)\n",
            "    (26): Conv2d(318, 316, kernel_size=(3, 3), stride=(1, 1), padding=(1, 1))\n",
            "    (27): ReLU(inplace=True)\n",
            "    (28): Conv2d(316, 297, kernel_size=(3, 3), stride=(1, 1), padding=(1, 1))\n",
            "    (29): ReLU(inplace=True)\n",
            "    (30): MaxPool2d(kernel_size=2, stride=2, padding=0, dilation=1, ceil_mode=False)\n",
            "  )\n",
            "  (avgpool): AdaptiveAvgPool2d(output_size=(7, 7))\n",
            "  (classifier): Sequential(\n",
            "    (0): Linear(in_features=14553, out_features=366, bias=True)\n",
            "    (1): ReLU(inplace=True)\n",
            "    (2): Dropout(p=0.5, inplace=False)\n",
            "    (3): Linear(in_features=366, out_features=1616, bias=True)\n",
            "    (4): ReLU(inplace=True)\n",
            "    (5): Dropout(p=0.5, inplace=False)\n",
            "    (6): Linear(in_features=1616, out_features=100, bias=True)\n",
            "  )\n",
            ")\n",
            "time: 1.12 ms (started: 2023-09-16 01:52:48 +00:00)\n"
          ]
        }
      ],
      "source": [
        "stp_model.classifier[6].out_features = 100\n",
        "print(stp_model)"
      ]
    },
    {
      "cell_type": "code",
      "execution_count": 43,
      "metadata": {
        "id": "sAlhQyh3on5p",
        "colab": {
          "base_uri": "https://localhost:8080/"
        },
        "outputId": "804fb4d7-d1e6-4199-8914-ddd981dfac5e"
      },
      "outputs": [
        {
          "output_type": "stream",
          "name": "stdout",
          "text": [
            "Accuracy :  6.32 \tLoss :  4.487371174393187\n",
            "time: 6.75 s (started: 2023-09-16 01:52:48 +00:00)\n"
          ]
        }
      ],
      "source": [
        "stp_model = stp_model.to(device)\n",
        "acc, loss_stp = evaluate(stp_model, test_dataloader)\n",
        "print('Accuracy : ',acc , '\\tLoss : ', loss_stp)"
      ]
    },
    {
      "cell_type": "markdown",
      "metadata": {
        "id": "kqd25_DdUUJf"
      },
      "source": [
        "# Fine Tuning"
      ]
    },
    {
      "cell_type": "code",
      "execution_count": 44,
      "metadata": {
        "id": "GPQAsD5rotdo",
        "colab": {
          "base_uri": "https://localhost:8080/"
        },
        "outputId": "b2c955b1-0853-4e7d-f27c-70e7d04a4d77"
      },
      "outputs": [
        {
          "output_type": "stream",
          "name": "stdout",
          "text": [
            "Epoch: 1\t Train_Loss:1.0348\t Train_Acc:69.8880\t Test_Loss:1.2722\t Test_Acc:63.6100\n",
            "Epoch: 2\t Train_Loss:0.7912\t Train_Acc:76.2580\t Test_Loss:1.1728\t Test_Acc:67.1300\n",
            "Epoch: 3\t Train_Loss:0.6863\t Train_Acc:79.6740\t Test_Loss:1.1325\t Test_Acc:68.3700\n",
            "Epoch: 4\t Train_Loss:0.5771\t Train_Acc:82.5980\t Test_Loss:1.1066\t Test_Acc:69.5800\n",
            "Epoch: 5\t Train_Loss:0.5030\t Train_Acc:84.3320\t Test_Loss:1.1383\t Test_Acc:70.4000\n",
            "Epoch: 6\t Train_Loss:0.4829\t Train_Acc:85.2020\t Test_Loss:1.1173\t Test_Acc:70.4000\n",
            "Epoch: 7\t Train_Loss:0.4358\t Train_Acc:86.5200\t Test_Loss:1.1013\t Test_Acc:71.3700\n",
            "Epoch: 8\t Train_Loss:0.4023\t Train_Acc:87.3040\t Test_Loss:1.1044\t Test_Acc:71.8100\n",
            "Epoch: 9\t Train_Loss:0.3593\t Train_Acc:88.8380\t Test_Loss:1.1417\t Test_Acc:71.9000\n",
            "Epoch:10\t Train_Loss:0.3519\t Train_Acc:89.2680\t Test_Loss:1.1592\t Test_Acc:71.7400\n",
            "time: 16min 29s (started: 2023-09-16 01:52:55 +00:00)\n"
          ]
        }
      ],
      "source": [
        "sgd_optimizer = torch.optim.SGD(stp_model.parameters(), lr = 0.001, momentum = 0.9)\n",
        "epochs = 10\n",
        "\n",
        "for epoch in range(epochs):\n",
        "  #Fit model\n",
        "  fit(stp_model, train_dataloader, sgd_optimizer, None, criterion)\n",
        "\n",
        "  #Train validation\n",
        "  trn_acc, trn_lss = evaluate(stp_model, train_dataloader)\n",
        "\n",
        "  #Test validation\n",
        "  tst_acc, tst_lss = evaluate(stp_model, test_dataloader)\n",
        "\n",
        "  print(f'Epoch:{epoch+1:2.0f}\\t Train_Loss:{trn_lss:.4f}\\t Train_Acc:{trn_acc:.4f}\\t Test_Loss:{tst_lss:.4f}\\t Test_Acc:{tst_acc:.4f}')"
      ]
    },
    {
      "cell_type": "code",
      "execution_count": 45,
      "metadata": {
        "id": "s1JUwJiDuxmr",
        "colab": {
          "base_uri": "https://localhost:8080/"
        },
        "outputId": "838b8713-18e6-4764-ad06-2c179f36c880"
      },
      "outputs": [
        {
          "output_type": "stream",
          "name": "stdout",
          "text": [
            "Epoch:11\t Train_Loss:0.2384\t Train_Acc:92.4600\t Test_Loss:1.1251\t Test_Acc:73.9000\n",
            "Epoch:12\t Train_Loss:0.2234\t Train_Acc:92.9140\t Test_Loss:1.1379\t Test_Acc:73.9700\n",
            "Epoch:13\t Train_Loss:0.2137\t Train_Acc:93.1720\t Test_Loss:1.1531\t Test_Acc:73.9600\n",
            "Epoch:14\t Train_Loss:0.2057\t Train_Acc:93.4140\t Test_Loss:1.1608\t Test_Acc:74.2000\n",
            "Epoch:15\t Train_Loss:0.1998\t Train_Acc:93.6020\t Test_Loss:1.1720\t Test_Acc:73.8400\n",
            "time: 8min 16s (started: 2023-09-16 02:09:25 +00:00)\n"
          ]
        }
      ],
      "source": [
        "sgd_optimizer = torch.optim.SGD(stp_model.parameters(), lr = 0.0001, momentum = 0.9)\n",
        "epochs = 5\n",
        "\n",
        "for epoch in range(epochs):\n",
        "  #Fit model\n",
        "  fit(stp_model, train_dataloader, sgd_optimizer, None, criterion)\n",
        "\n",
        "  #Train validation\n",
        "  trn_acc, trn_lss = evaluate(stp_model, train_dataloader)\n",
        "\n",
        "  #Test validation\n",
        "  tst_acc, tst_lss = evaluate(stp_model, test_dataloader)\n",
        "\n",
        "  print(f'Epoch:{epoch+11:2.0f}\\t Train_Loss:{trn_lss:.4f}\\t Train_Acc:{trn_acc:.4f}\\t Test_Loss:{tst_lss:.4f}\\t Test_Acc:{tst_acc:.4f}')"
      ]
    },
    {
      "cell_type": "code",
      "execution_count": 46,
      "metadata": {
        "id": "z91J0U0_uvLo",
        "colab": {
          "base_uri": "https://localhost:8080/"
        },
        "outputId": "b895b7ca-fb82-44c2-8c94-a49a5ee003a8"
      },
      "outputs": [
        {
          "output_type": "stream",
          "name": "stdout",
          "text": [
            "Epoch:16\t Train_Loss:0.1957\t Train_Acc:93.7400\t Test_Loss:1.1668\t Test_Acc:74.0500\n",
            "Epoch:17\t Train_Loss:0.1938\t Train_Acc:93.8300\t Test_Loss:1.1616\t Test_Acc:74.1700\n",
            "Epoch:18\t Train_Loss:0.1959\t Train_Acc:93.7460\t Test_Loss:1.1619\t Test_Acc:74.2000\n",
            "Epoch:19\t Train_Loss:0.1911\t Train_Acc:93.8760\t Test_Loss:1.1669\t Test_Acc:74.1500\n",
            "Epoch:20\t Train_Loss:0.1915\t Train_Acc:93.8780\t Test_Loss:1.1670\t Test_Acc:74.1400\n",
            "time: 8min 15s (started: 2023-09-16 02:17:41 +00:00)\n"
          ]
        }
      ],
      "source": [
        "sgd_optimizer = torch.optim.SGD(stp_model.parameters(), lr = 0.00001, momentum = 0.9)\n",
        "epochs = 5\n",
        "\n",
        "for epoch in range(epochs):\n",
        "  #Fit model\n",
        "  fit(stp_model, train_dataloader, sgd_optimizer, None , criterion)\n",
        "\n",
        "  #Train validation\n",
        "  trn_acc, trn_lss = evaluate(stp_model, train_dataloader)\n",
        "\n",
        "  #Test validation\n",
        "  tst_acc, tst_lss = evaluate(stp_model, test_dataloader)\n",
        "\n",
        "  print(f'Epoch:{epoch+16:2.0f}\\t Train_Loss:{trn_lss:.4f}\\t Train_Acc:{trn_acc:.4f}\\t Test_Loss:{tst_lss:.4f}\\t Test_Acc:{tst_acc:.4f}')"
      ]
    },
    {
      "cell_type": "code",
      "execution_count": 47,
      "metadata": {
        "id": "YyLP223u34x8",
        "colab": {
          "base_uri": "https://localhost:8080/"
        },
        "outputId": "a3c6315f-c0b4-462d-b195-af5105260929"
      },
      "outputs": [
        {
          "output_type": "stream",
          "name": "stdout",
          "text": [
            "Accuracy :  74.14 \tLoss :  1.1669672670637725\n",
            "time: 6.3 s (started: 2023-09-16 02:25:57 +00:00)\n"
          ]
        }
      ],
      "source": [
        "acc, loss = evaluate(stp_model, test_dataloader)\n",
        "print('Accuracy : ',acc , '\\tLoss : ', loss)"
      ]
    },
    {
      "cell_type": "code",
      "execution_count": 48,
      "metadata": {
        "id": "24SH-v7b4VCN",
        "colab": {
          "base_uri": "https://localhost:8080/"
        },
        "outputId": "1b4caf74-2e32-4b51-bd83-47c66baa8836"
      },
      "outputs": [
        {
          "output_type": "stream",
          "name": "stdout",
          "text": [
            "time: 65.5 ms (started: 2023-09-16 02:26:03 +00:00)\n"
          ]
        }
      ],
      "source": [
        "torch.save(stp_model, 'pruned_model.pt')"
      ]
    },
    {
      "cell_type": "code",
      "execution_count": 49,
      "metadata": {
        "id": "9xrfgfpC5x-C",
        "colab": {
          "base_uri": "https://localhost:8080/"
        },
        "outputId": "b8b2d5ed-bf01-464d-8240-0778d0087804"
      },
      "outputs": [
        {
          "output_type": "execute_result",
          "data": {
            "text/plain": [
              "64"
            ]
          },
          "metadata": {},
          "execution_count": 49
        },
        {
          "output_type": "stream",
          "name": "stdout",
          "text": [
            "time: 5.89 ms (started: 2023-09-16 02:26:03 +00:00)\n"
          ]
        }
      ],
      "source": [
        "import sys\n",
        "sys.getsizeof('pruned_model.pt')"
      ]
    },
    {
      "cell_type": "code",
      "execution_count": 50,
      "metadata": {
        "id": "OqUJ6DZ060VV",
        "colab": {
          "base_uri": "https://localhost:8080/"
        },
        "outputId": "15967e08-1d4f-4041-e295-07e96de8b6e8"
      },
      "outputs": [
        {
          "output_type": "stream",
          "name": "stdout",
          "text": [
            "Pruned Model Size is : 46.44029140472412 mb\n",
            "time: 3.68 ms (started: 2023-09-16 02:26:03 +00:00)\n"
          ]
        }
      ],
      "source": [
        "import os\n",
        "pruned_model_size = os.path.getsize('pruned_model.pt')\n",
        "print(\"Pruned Model Size is :\", pruned_model_size/(1024*1024), \"mb\")"
      ]
    },
    {
      "cell_type": "code",
      "execution_count": 51,
      "metadata": {
        "id": "9cqF9oYm7zN8",
        "colab": {
          "base_uri": "https://localhost:8080/"
        },
        "outputId": "67f2d1ac-6d3b-4a72-d76c-8832bb42e12a"
      },
      "outputs": [
        {
          "output_type": "stream",
          "name": "stdout",
          "text": [
            "Original VGG16 Model Size is : 527.8029336929321 mb\n",
            "time: 444 µs (started: 2023-09-16 02:26:03 +00:00)\n"
          ]
        }
      ],
      "source": [
        "original_model_size = os.path.getsize('VGG16(SGD)-v1.0')\n",
        "print(\"Original VGG16 Model Size is :\", original_model_size/(1024*1024), \"mb\")"
      ]
    }
  ],
  "metadata": {
    "accelerator": "GPU",
    "colab": {
      "provenance": [],
      "include_colab_link": true
    },
    "gpuClass": "standard",
    "kernelspec": {
      "display_name": "Python 3",
      "language": "python",
      "name": "python3"
    },
    "language_info": {
      "codemirror_mode": {
        "name": "ipython",
        "version": 3
      },
      "file_extension": ".py",
      "mimetype": "text/x-python",
      "name": "python",
      "nbconvert_exporter": "python",
      "pygments_lexer": "ipython3",
      "version": "3.8.6"
    }
  },
  "nbformat": 4,
  "nbformat_minor": 0
}