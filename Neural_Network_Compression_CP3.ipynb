{
  "cells": [
    {
      "cell_type": "markdown",
      "metadata": {
        "id": "Y4vRI0Slei2O"
      },
      "source": [
        "# Installing and importing required modules"
      ]
    },
    {
      "cell_type": "code",
      "execution_count": 1,
      "metadata": {
        "colab": {
          "base_uri": "https://localhost:8080/"
        },
        "id": "78kB_7YjHjn0",
        "outputId": "4c69081e-adf2-4bfa-ef55-5d103cc3cf61"
      },
      "outputs": [
        {
          "output_type": "stream",
          "name": "stdout",
          "text": [
            "Looking in indexes: https://pypi.org/simple, https://us-python.pkg.dev/colab-wheels/public/simple/\n",
            "Collecting ipython-autotime\n",
            "  Downloading ipython_autotime-0.3.1-py2.py3-none-any.whl (6.8 kB)\n",
            "Requirement already satisfied: ipython in /usr/local/lib/python3.7/dist-packages (from ipython-autotime) (7.9.0)\n",
            "Requirement already satisfied: pickleshare in /usr/local/lib/python3.7/dist-packages (from ipython->ipython-autotime) (0.7.5)\n",
            "Requirement already satisfied: backcall in /usr/local/lib/python3.7/dist-packages (from ipython->ipython-autotime) (0.2.0)\n",
            "Requirement already satisfied: pexpect in /usr/local/lib/python3.7/dist-packages (from ipython->ipython-autotime) (4.8.0)\n",
            "Collecting jedi>=0.10\n",
            "  Downloading jedi-0.18.2-py2.py3-none-any.whl (1.6 MB)\n",
            "\u001b[K     |████████████████████████████████| 1.6 MB 32.8 MB/s \n",
            "\u001b[?25hRequirement already satisfied: setuptools>=18.5 in /usr/local/lib/python3.7/dist-packages (from ipython->ipython-autotime) (57.4.0)\n",
            "Requirement already satisfied: decorator in /usr/local/lib/python3.7/dist-packages (from ipython->ipython-autotime) (4.4.2)\n",
            "Requirement already satisfied: pygments in /usr/local/lib/python3.7/dist-packages (from ipython->ipython-autotime) (2.6.1)\n",
            "Requirement already satisfied: prompt-toolkit<2.1.0,>=2.0.0 in /usr/local/lib/python3.7/dist-packages (from ipython->ipython-autotime) (2.0.10)\n",
            "Requirement already satisfied: traitlets>=4.2 in /usr/local/lib/python3.7/dist-packages (from ipython->ipython-autotime) (5.1.1)\n",
            "Requirement already satisfied: parso<0.9.0,>=0.8.0 in /usr/local/lib/python3.7/dist-packages (from jedi>=0.10->ipython->ipython-autotime) (0.8.3)\n",
            "Requirement already satisfied: six>=1.9.0 in /usr/local/lib/python3.7/dist-packages (from prompt-toolkit<2.1.0,>=2.0.0->ipython->ipython-autotime) (1.15.0)\n",
            "Requirement already satisfied: wcwidth in /usr/local/lib/python3.7/dist-packages (from prompt-toolkit<2.1.0,>=2.0.0->ipython->ipython-autotime) (0.2.5)\n",
            "Requirement already satisfied: ptyprocess>=0.5 in /usr/local/lib/python3.7/dist-packages (from pexpect->ipython->ipython-autotime) (0.7.0)\n",
            "Installing collected packages: jedi, ipython-autotime\n",
            "Successfully installed ipython-autotime-0.3.1 jedi-0.18.2\n"
          ]
        }
      ],
      "source": [
        "!pip install ipython-autotime"
      ]
    },
    {
      "cell_type": "code",
      "execution_count": 2,
      "metadata": {
        "colab": {
          "base_uri": "https://localhost:8080/"
        },
        "id": "eKnoBAeD8Lsx",
        "outputId": "0d2a4a5c-1ec7-4bf2-ebaf-d3a5587553bc"
      },
      "outputs": [
        {
          "output_type": "stream",
          "name": "stdout",
          "text": [
            "Looking in indexes: https://pypi.org/simple, https://us-python.pkg.dev/colab-wheels/public/simple/\n",
            "Collecting torch_pruning==0.2.6\n",
            "  Downloading torch_pruning-0.2.6-py3-none-any.whl (13 kB)\n",
            "Requirement already satisfied: torch in /usr/local/lib/python3.7/dist-packages (from torch_pruning==0.2.6) (1.12.1+cu113)\n",
            "Requirement already satisfied: typing-extensions in /usr/local/lib/python3.7/dist-packages (from torch->torch_pruning==0.2.6) (4.1.1)\n",
            "Installing collected packages: torch-pruning\n",
            "Successfully installed torch-pruning-0.2.6\n"
          ]
        }
      ],
      "source": [
        "!pip install torch_pruning==0.2.6"
      ]
    },
    {
      "cell_type": "code",
      "execution_count": 3,
      "metadata": {
        "colab": {
          "base_uri": "https://localhost:8080/"
        },
        "id": "bnsyueTmRuFr",
        "outputId": "dbe94452-b2fb-4bf5-ea0e-376a48295274"
      },
      "outputs": [
        {
          "output_type": "stream",
          "name": "stdout",
          "text": [
            "time: 248 µs (started: 2022-11-23 16:21:37 +00:00)\n"
          ]
        }
      ],
      "source": [
        "import numpy as np\n",
        "import matplotlib.pyplot as plt\n",
        "import torch\n",
        "from torch.utils.data import DataLoader\n",
        "import torch.optim as optim\n",
        "import torch.nn as nn\n",
        "from torchvision import models,transforms,datasets\n",
        "import torch.nn.utils.prune as prune\n",
        "from copy import deepcopy\n",
        "import torch_pruning as tp\n",
        "\n",
        "# To time everything\n",
        "%load_ext autotime"
      ]
    },
    {
      "cell_type": "code",
      "execution_count": 4,
      "metadata": {
        "colab": {
          "base_uri": "https://localhost:8080/"
        },
        "id": "XpLwZxqnkIvs",
        "outputId": "7e214016-6231-4edb-ef37-db846ac0cb8e"
      },
      "outputs": [
        {
          "output_type": "execute_result",
          "data": {
            "text/plain": [
              "device(type='cuda')"
            ]
          },
          "metadata": {},
          "execution_count": 4
        },
        {
          "output_type": "stream",
          "name": "stdout",
          "text": [
            "time: 74.5 ms (started: 2022-11-23 16:21:37 +00:00)\n"
          ]
        }
      ],
      "source": [
        "# Setting up GPU\n",
        "device = torch.device('cuda' if torch.cuda.is_available() else 'cpu')\n",
        "device"
      ]
    },
    {
      "cell_type": "markdown",
      "metadata": {
        "id": "7JU1Mfvde2AG"
      },
      "source": [
        "# Import CIFAR-100 and Resize"
      ]
    },
    {
      "cell_type": "code",
      "execution_count": 5,
      "metadata": {
        "colab": {
          "base_uri": "https://localhost:8080/"
        },
        "id": "_b0GiF4QUIqL",
        "outputId": "bf28c023-c2a4-4204-b4e4-44afd7a60ed4"
      },
      "outputs": [
        {
          "output_type": "stream",
          "name": "stdout",
          "text": [
            "time: 2.16 ms (started: 2022-11-23 16:21:38 +00:00)\n"
          ]
        }
      ],
      "source": [
        "# Transforming the CIFAR100 train dataset and test dataset\n",
        "train_transform = transforms.Compose([transforms.Resize(64),\n",
        "                                   transforms.RandomHorizontalFlip(),\n",
        "                                   transforms.RandomRotation(15),\n",
        "                                   transforms.ToTensor(),\n",
        "                                   transforms.Normalize((0.48,0.4593,0.4155),(0.2774,0.2794,0.2794))])\n",
        "\n",
        "test_transform = transforms.Compose([transforms.Resize(64),\n",
        "                                  transforms.ToTensor(),\n",
        "                                  transforms.Normalize((0.48,0.4593,0.4155),(0.2774,0.2794,0.2794))])"
      ]
    },
    {
      "cell_type": "code",
      "execution_count": 6,
      "metadata": {
        "colab": {
          "base_uri": "https://localhost:8080/",
          "height": 103,
          "referenced_widgets": [
            "2ccaee79d5ad44a7a8aed48582a184c8",
            "722851e474c648049bff4d07d674997b",
            "5adb64a7c5bb45e4a9abcfbd40306bf3",
            "bbcb61dbf9bc4078823a32acd4dd4fbe",
            "54b8996b6ee5490a8ed933a56fb1c51a",
            "3db4816a5051412282de8d9eb9331e17",
            "f6d8519d3c8841a5aa366be406b53985",
            "4128ad1a3d574612a03aec608439550e",
            "b7f5e48de1f24f99ae4731941d56584c",
            "a11258d5654c42b6a51c091f6941d343",
            "a9f6530e293f4d88962ce4d180551fb7"
          ]
        },
        "id": "A9nbu4BoSSj_",
        "outputId": "d6f8d7bd-8571-4c50-c8ae-bb99e8239a79"
      },
      "outputs": [
        {
          "output_type": "stream",
          "name": "stdout",
          "text": [
            "Downloading https://www.cs.toronto.edu/~kriz/cifar-100-python.tar.gz to CIFAR100/cifar-100-python.tar.gz\n"
          ]
        },
        {
          "output_type": "display_data",
          "data": {
            "text/plain": [
              "  0%|          | 0/169001437 [00:00<?, ?it/s]"
            ],
            "application/vnd.jupyter.widget-view+json": {
              "version_major": 2,
              "version_minor": 0,
              "model_id": "2ccaee79d5ad44a7a8aed48582a184c8"
            }
          },
          "metadata": {}
        },
        {
          "output_type": "stream",
          "name": "stdout",
          "text": [
            "Extracting CIFAR100/cifar-100-python.tar.gz to CIFAR100\n",
            "time: 5.53 s (started: 2022-11-23 16:21:38 +00:00)\n"
          ]
        }
      ],
      "source": [
        "train_data_set = datasets.CIFAR100(root = \"CIFAR100\", train = True, download = True, transform = train_transform)"
      ]
    },
    {
      "cell_type": "code",
      "execution_count": 7,
      "metadata": {
        "colab": {
          "base_uri": "https://localhost:8080/"
        },
        "id": "HrYMgq0mSXIP",
        "outputId": "5e60ab40-12d3-47ae-a3d4-68fd2342d66f"
      },
      "outputs": [
        {
          "output_type": "stream",
          "name": "stdout",
          "text": [
            "Files already downloaded and verified\n",
            "time: 1.07 s (started: 2022-11-23 16:21:43 +00:00)\n"
          ]
        }
      ],
      "source": [
        "test_data_set = datasets.CIFAR100(root = \"CIFAR100\", train = False, download = True, transform = test_transform)"
      ]
    },
    {
      "cell_type": "code",
      "execution_count": 8,
      "metadata": {
        "colab": {
          "base_uri": "https://localhost:8080/"
        },
        "id": "i5bLuLgL7zrF",
        "outputId": "3b3cc64d-f37d-4bf3-c2be-b53caa671def"
      },
      "outputs": [
        {
          "output_type": "execute_result",
          "data": {
            "text/plain": [
              "torch.Size([3, 64, 64])"
            ]
          },
          "metadata": {},
          "execution_count": 8
        },
        {
          "output_type": "stream",
          "name": "stdout",
          "text": [
            "time: 104 ms (started: 2022-11-23 16:21:44 +00:00)\n"
          ]
        }
      ],
      "source": [
        "train_data_set[0][0].shape"
      ]
    },
    {
      "cell_type": "code",
      "execution_count": 9,
      "metadata": {
        "colab": {
          "base_uri": "https://localhost:8080/"
        },
        "id": "02RU0eKt73KQ",
        "outputId": "758ff763-6408-4099-913d-fdaeb2f9ae80"
      },
      "outputs": [
        {
          "output_type": "execute_result",
          "data": {
            "text/plain": [
              "torch.Size([3, 64, 64])"
            ]
          },
          "metadata": {},
          "execution_count": 9
        },
        {
          "output_type": "stream",
          "name": "stdout",
          "text": [
            "time: 17 ms (started: 2022-11-23 16:21:44 +00:00)\n"
          ]
        }
      ],
      "source": [
        "test_data_set[0][0].shape"
      ]
    },
    {
      "cell_type": "markdown",
      "metadata": {
        "id": "2g65SO2tfYES"
      },
      "source": [
        "# VGG16"
      ]
    },
    {
      "cell_type": "code",
      "execution_count": 10,
      "metadata": {
        "colab": {
          "base_uri": "https://localhost:8080/"
        },
        "id": "0PJxLwDRvpPA",
        "outputId": "e34ec4e0-edf4-4bd1-a791-d64a59cafd6f"
      },
      "outputs": [
        {
          "output_type": "stream",
          "name": "stdout",
          "text": [
            "time: 816 µs (started: 2022-11-23 16:21:44 +00:00)\n"
          ]
        }
      ],
      "source": [
        "# Defining number of classes in the dataset\n",
        "n_classes = 100\n",
        "\n",
        "# Defining the Batch size for training\n",
        "batch_size = 64\n",
        "\n",
        "# Defining Number of epochs\n",
        "n_epochs = 15"
      ]
    },
    {
      "cell_type": "code",
      "execution_count": 11,
      "metadata": {
        "colab": {
          "base_uri": "https://localhost:8080/",
          "height": 177,
          "referenced_widgets": [
            "6376b2ee2475443ead43601068d4858d",
            "b374585835524ee6bf5f9724d90e2dda",
            "dd4550af1fa143708ce1a5719bfe6459",
            "fca5c0f71ac0495a93a2291d8210d0fe",
            "97bbf87d76d14d1e919a4e21c66a4166",
            "dc0897e83e3549b3bbc00a0b3f950027",
            "31b7754bc65942c2b4e026eabe118595",
            "8c5596dc1dfb4736971276da7250ac1f",
            "148bf6b3fbfc4fa0bc5fc6270d915a85",
            "b6a45417afc7483a88dc641bc58e873e",
            "dc9974dde09e49aa88049bf0cb318f60"
          ]
        },
        "id": "MdBM_c17kXNx",
        "outputId": "b8671923-26d1-46d0-f48f-aaf942328e6e"
      },
      "outputs": [
        {
          "output_type": "stream",
          "name": "stderr",
          "text": [
            "/usr/local/lib/python3.7/dist-packages/torchvision/models/_utils.py:209: UserWarning: The parameter 'pretrained' is deprecated since 0.13 and will be removed in 0.15, please use 'weights' instead.\n",
            "  f\"The parameter '{pretrained_param}' is deprecated since 0.13 and will be removed in 0.15, \"\n",
            "/usr/local/lib/python3.7/dist-packages/torchvision/models/_utils.py:223: UserWarning: Arguments other than a weight enum or `None` for 'weights' are deprecated since 0.13 and will be removed in 0.15. The current behavior is equivalent to passing `weights=VGG16_Weights.IMAGENET1K_V1`. You can also use `weights=VGG16_Weights.DEFAULT` to get the most up-to-date weights.\n",
            "  warnings.warn(msg)\n",
            "Downloading: \"https://download.pytorch.org/models/vgg16-397923af.pth\" to /root/.cache/torch/hub/checkpoints/vgg16-397923af.pth\n"
          ]
        },
        {
          "output_type": "display_data",
          "data": {
            "text/plain": [
              "  0%|          | 0.00/528M [00:00<?, ?B/s]"
            ],
            "application/vnd.jupyter.widget-view+json": {
              "version_major": 2,
              "version_minor": 0,
              "model_id": "6376b2ee2475443ead43601068d4858d"
            }
          },
          "metadata": {}
        },
        {
          "output_type": "stream",
          "name": "stdout",
          "text": [
            "time: 12.6 s (started: 2022-11-23 16:21:44 +00:00)\n"
          ]
        }
      ],
      "source": [
        "vgg16_model = models.vgg16(pretrained = True) #130million+ parameters\n",
        "\n",
        "# set_parameter_requires_grad for classifier layers\n",
        "'''\n",
        "for param in vgg16_model.parameters():\n",
        "  param.requires_grad=False\n",
        "'''\n",
        "\n",
        "# Modifying last layer out classes\n",
        "vgg16_model.classifier[6].out_features = n_classes\n",
        "\n",
        "vgg16_model = vgg16_model.to(device)"
      ]
    },
    {
      "cell_type": "code",
      "execution_count": 12,
      "metadata": {
        "colab": {
          "base_uri": "https://localhost:8080/"
        },
        "id": "KlCn31Vefi1e",
        "outputId": "13deebcf-e908-4e60-87f0-4609cd6f9427"
      },
      "outputs": [
        {
          "output_type": "stream",
          "name": "stdout",
          "text": [
            "VGG(\n",
            "  (features): Sequential(\n",
            "    (0): Conv2d(3, 64, kernel_size=(3, 3), stride=(1, 1), padding=(1, 1))\n",
            "    (1): ReLU(inplace=True)\n",
            "    (2): Conv2d(64, 64, kernel_size=(3, 3), stride=(1, 1), padding=(1, 1))\n",
            "    (3): ReLU(inplace=True)\n",
            "    (4): MaxPool2d(kernel_size=2, stride=2, padding=0, dilation=1, ceil_mode=False)\n",
            "    (5): Conv2d(64, 128, kernel_size=(3, 3), stride=(1, 1), padding=(1, 1))\n",
            "    (6): ReLU(inplace=True)\n",
            "    (7): Conv2d(128, 128, kernel_size=(3, 3), stride=(1, 1), padding=(1, 1))\n",
            "    (8): ReLU(inplace=True)\n",
            "    (9): MaxPool2d(kernel_size=2, stride=2, padding=0, dilation=1, ceil_mode=False)\n",
            "    (10): Conv2d(128, 256, kernel_size=(3, 3), stride=(1, 1), padding=(1, 1))\n",
            "    (11): ReLU(inplace=True)\n",
            "    (12): Conv2d(256, 256, kernel_size=(3, 3), stride=(1, 1), padding=(1, 1))\n",
            "    (13): ReLU(inplace=True)\n",
            "    (14): Conv2d(256, 256, kernel_size=(3, 3), stride=(1, 1), padding=(1, 1))\n",
            "    (15): ReLU(inplace=True)\n",
            "    (16): MaxPool2d(kernel_size=2, stride=2, padding=0, dilation=1, ceil_mode=False)\n",
            "    (17): Conv2d(256, 512, kernel_size=(3, 3), stride=(1, 1), padding=(1, 1))\n",
            "    (18): ReLU(inplace=True)\n",
            "    (19): Conv2d(512, 512, kernel_size=(3, 3), stride=(1, 1), padding=(1, 1))\n",
            "    (20): ReLU(inplace=True)\n",
            "    (21): Conv2d(512, 512, kernel_size=(3, 3), stride=(1, 1), padding=(1, 1))\n",
            "    (22): ReLU(inplace=True)\n",
            "    (23): MaxPool2d(kernel_size=2, stride=2, padding=0, dilation=1, ceil_mode=False)\n",
            "    (24): Conv2d(512, 512, kernel_size=(3, 3), stride=(1, 1), padding=(1, 1))\n",
            "    (25): ReLU(inplace=True)\n",
            "    (26): Conv2d(512, 512, kernel_size=(3, 3), stride=(1, 1), padding=(1, 1))\n",
            "    (27): ReLU(inplace=True)\n",
            "    (28): Conv2d(512, 512, kernel_size=(3, 3), stride=(1, 1), padding=(1, 1))\n",
            "    (29): ReLU(inplace=True)\n",
            "    (30): MaxPool2d(kernel_size=2, stride=2, padding=0, dilation=1, ceil_mode=False)\n",
            "  )\n",
            "  (avgpool): AdaptiveAvgPool2d(output_size=(7, 7))\n",
            "  (classifier): Sequential(\n",
            "    (0): Linear(in_features=25088, out_features=4096, bias=True)\n",
            "    (1): ReLU(inplace=True)\n",
            "    (2): Dropout(p=0.5, inplace=False)\n",
            "    (3): Linear(in_features=4096, out_features=4096, bias=True)\n",
            "    (4): ReLU(inplace=True)\n",
            "    (5): Dropout(p=0.5, inplace=False)\n",
            "    (6): Linear(in_features=4096, out_features=100, bias=True)\n",
            "  )\n",
            ")\n",
            "time: 1.33 ms (started: 2022-11-23 16:21:57 +00:00)\n"
          ]
        }
      ],
      "source": [
        "# Printing VGG16 Model\n",
        "print(vgg16_model)"
      ]
    },
    {
      "cell_type": "markdown",
      "metadata": {
        "id": "jqx8S8jIe_pM"
      },
      "source": [
        "# Training"
      ]
    },
    {
      "cell_type": "code",
      "execution_count": 13,
      "metadata": {
        "colab": {
          "base_uri": "https://localhost:8080/"
        },
        "id": "nR8nsYZ_px8S",
        "outputId": "3385ec51-1c02-4950-9a96-e953767909c5"
      },
      "outputs": [
        {
          "output_type": "stream",
          "name": "stdout",
          "text": [
            "time: 2.09 ms (started: 2022-11-23 16:21:57 +00:00)\n"
          ]
        }
      ],
      "source": [
        "# To compute the cross entropy loss between input and target\n",
        "criterion = nn.CrossEntropyLoss()\n",
        "\n",
        "# To implement stochastic gradient descent and optimize the model\n",
        "sgd_optimizer = optim.SGD(vgg16_model.parameters(), lr = 0.003, momentum = 0.9)\n",
        "\n",
        "# Decays the learning rate of each parameter group by gamma every step_size epochs\n",
        "lr_scheduler = optim.lr_scheduler.StepLR(sgd_optimizer, step_size = 15, gamma = 0.1)\n",
        "\n",
        "# Defining a 'DataLoader' constructor, a Python iterable over a dataset\n",
        "train_dataloader  = DataLoader(train_data_set, batch_size = batch_size, shuffle = True)\n",
        "test_dataloader   = DataLoader(test_data_set, batch_size = batch_size, shuffle = True)"
      ]
    },
    {
      "cell_type": "code",
      "execution_count": 14,
      "metadata": {
        "colab": {
          "base_uri": "https://localhost:8080/"
        },
        "id": "M58bUMju28j4",
        "outputId": "9e1fe975-c96d-4187-dabd-3475b27b4653"
      },
      "outputs": [
        {
          "output_type": "stream",
          "name": "stdout",
          "text": [
            "time: 1.75 ms (started: 2022-11-23 16:21:57 +00:00)\n"
          ]
        }
      ],
      "source": [
        "# Method to train the model\n",
        "def fit(model, dataset, optimizer, scheduler, criterion):\n",
        "  # Set model to training mode\n",
        "  model.train()\n",
        "  if scheduler != None:\n",
        "    scheduler.step()\n",
        "  # Iterating over the data\n",
        "  for data, targets in dataset:\n",
        "    data    = data.to(device)\n",
        "    targets = targets.to(device)\n",
        "    # Reset the gradients\n",
        "    optimizer.zero_grad()\n",
        "    # Generate predictions\n",
        "    pred  = model(data)\n",
        "    # Calculate loss\n",
        "    loss  = criterion(pred, targets)\n",
        "    # Backpropagation\n",
        "    loss.backward()\n",
        "    # Update model parameters\n",
        "    optimizer.step()"
      ]
    },
    {
      "cell_type": "code",
      "execution_count": 15,
      "metadata": {
        "colab": {
          "base_uri": "https://localhost:8080/"
        },
        "id": "ZSPUrB5mperN",
        "outputId": "7a94f214-787e-4d3f-aefb-ddbb83e8da19"
      },
      "outputs": [
        {
          "output_type": "stream",
          "name": "stdout",
          "text": [
            "time: 1.51 ms (started: 2022-11-23 16:21:57 +00:00)\n"
          ]
        }
      ],
      "source": [
        "from os import pread\n",
        "# Method to validate the model\n",
        "def validate(model, dataset, criterion):\n",
        "  # Set model to evaluation mode\n",
        "  model.eval()\n",
        "  accuracy  = 0\n",
        "  loss      = []\n",
        "  for data, targets in dataset:\n",
        "    data    = data.to(device)\n",
        "    targets = targets.to(device)\n",
        "    pred    = model(data)\n",
        "    # Get loss\n",
        "    l = criterion(pred, targets)\n",
        "    loss.append(l.item())\n",
        "    # Get index of class label\n",
        "    _,preds = torch.max(pred.data,1)\n",
        "    # Get accuracy\n",
        "    accuracy += torch.sum(preds == targets).item()\n",
        "\n",
        "  return 100*accuracy/len(dataset.dataset), np.mean(np.array(loss))"
      ]
    },
    {
      "cell_type": "code",
      "execution_count": 16,
      "metadata": {
        "colab": {
          "base_uri": "https://localhost:8080/"
        },
        "id": "vCp8TFGSfzYx",
        "outputId": "d8b885c2-0f11-476d-ad80-3385d209ebe4"
      },
      "outputs": [
        {
          "output_type": "stream",
          "name": "stdout",
          "text": [
            "time: 464 µs (started: 2022-11-23 16:21:57 +00:00)\n"
          ]
        }
      ],
      "source": [
        "# train_loss  = []\n",
        "# train_acc   = []\n",
        "# test_loss   = []\n",
        "# test_acc    = []\n",
        "# epochs      = []\n",
        "# epoch_value = 0\n",
        "\n",
        "# # Loop for n_epochs\n",
        "# for epoch in range(n_epochs):\n",
        "#   # Fit model\n",
        "#   fit(vgg16_model, train_dataloader, sgd_optimizer, lr_scheduler, criterion)\n",
        "\n",
        "#   # Train validation\n",
        "#   train_accuracy, train_lss = validate(vgg16_model, train_dataloader, criterion)\n",
        "#   train_loss.append(train_lss)\n",
        "#   train_acc.append(train_accuracy)\n",
        "\n",
        "#   # Test validation\n",
        "#   test_accuracy, test_lss = validate(vgg16_model, test_dataloader, criterion)\n",
        "#   test_loss.append(test_lss)\n",
        "#   test_acc.append(test_accuracy)\n",
        "\n",
        "#   # Printing the epochs with \n",
        "#   print(f'Epoch:{epoch+1:2.0f}\\t Train_Loss:{train_loss[-1]:.4f}\\t Train_Acc:{train_acc[-1]:.4f}\\t Test_Loss:{test_loss[-1]:.4f}\\t Test_Acc:{test_acc[-1]:.4f}')\n",
        "#   epoch_value +=1\n",
        "#   epochs.append(epoch_value)\n"
      ]
    },
    {
      "cell_type": "code",
      "source": [
        "# # Plotting Epoch vs Test Loss\n",
        "# print('Test Loss: ', test_loss)\n",
        "# print('Epochs: ', epochs)\n",
        "\n",
        "# plt.plot(test_loss, epochs)\n",
        "# plt.ylabel('epochs')\n",
        "# plt.xlabel('Test Loss')"
      ],
      "metadata": {
        "colab": {
          "base_uri": "https://localhost:8080/"
        },
        "id": "LEOXNjZx29aV",
        "outputId": "2f7c3049-76c7-4374-b83b-692a22446071"
      },
      "execution_count": 17,
      "outputs": [
        {
          "output_type": "stream",
          "name": "stdout",
          "text": [
            "time: 741 µs (started: 2022-11-23 16:21:57 +00:00)\n"
          ]
        }
      ]
    },
    {
      "cell_type": "markdown",
      "metadata": {
        "id": "k-3zSFVjlwcS"
      },
      "source": [
        "# Save VGG16 Model"
      ]
    },
    {
      "cell_type": "code",
      "execution_count": 18,
      "metadata": {
        "id": "TJWa4V-2NmN2",
        "colab": {
          "base_uri": "https://localhost:8080/"
        },
        "outputId": "47e0f9b1-e72c-4677-c6d7-fda79ae58004"
      },
      "outputs": [
        {
          "output_type": "stream",
          "name": "stdout",
          "text": [
            "time: 566 µs (started: 2022-11-23 16:21:57 +00:00)\n"
          ]
        }
      ],
      "source": [
        "# # Authorizing Google Drive\n",
        "# from google.colab import drive\n",
        "# drive.mount('/content/gdrive')"
      ]
    },
    {
      "cell_type": "code",
      "source": [
        "# # Saving the model to Drive\n",
        "# path = F\"/content/gdrive/My Drive/Colab Notebooks/VGG16(SGD)-v1.0\"\n",
        "# torch.save(vgg16_model.state_dict(), path)"
      ],
      "metadata": {
        "colab": {
          "base_uri": "https://localhost:8080/"
        },
        "id": "zvnigyGwdt_C",
        "outputId": "e2eb935f-fcdd-47fc-92ab-161a8b19ff6d"
      },
      "execution_count": 19,
      "outputs": [
        {
          "output_type": "stream",
          "name": "stdout",
          "text": [
            "time: 376 µs (started: 2022-11-23 16:21:57 +00:00)\n"
          ]
        }
      ]
    },
    {
      "cell_type": "code",
      "execution_count": 20,
      "metadata": {
        "id": "CEAkg3NU8sLG",
        "colab": {
          "base_uri": "https://localhost:8080/"
        },
        "outputId": "f059c1f4-387a-44ed-8f49-75fa90a94104"
      },
      "outputs": [
        {
          "output_type": "stream",
          "name": "stdout",
          "text": [
            "time: 378 µs (started: 2022-11-23 16:21:57 +00:00)\n"
          ]
        }
      ],
      "source": [
        "# # Checking the GPU\n",
        "# device = torch.device('cuda' if torch.cuda.is_available() else 'cpu')\n",
        "# print(device)"
      ]
    },
    {
      "cell_type": "markdown",
      "metadata": {
        "id": "kqgGbibD82sP"
      },
      "source": [
        "# Important Functions"
      ]
    },
    {
      "cell_type": "code",
      "execution_count": 21,
      "metadata": {
        "id": "QQwrIpKDZWE6",
        "colab": {
          "base_uri": "https://localhost:8080/"
        },
        "outputId": "4bd62442-789c-4457-f1f0-0a82c6753f69"
      },
      "outputs": [
        {
          "output_type": "stream",
          "name": "stdout",
          "text": [
            "time: 2.41 ms (started: 2022-11-23 16:21:57 +00:00)\n"
          ]
        }
      ],
      "source": [
        "# Method to remove parameters\n",
        "def remove_parameters(model):\n",
        "    for module_name, module in model.named_modules():\n",
        "        if isinstance(module, torch.nn.Conv2d):\n",
        "            try:\n",
        "                prune.remove(module, \"weight\")\n",
        "            except:\n",
        "                pass\n",
        "            try:\n",
        "                prune.remove(module, \"bias\")\n",
        "            except:\n",
        "                pass\n",
        "        elif isinstance(module, torch.nn.Linear):\n",
        "            try:\n",
        "                prune.remove(module, \"weight\")\n",
        "            except:\n",
        "                pass\n",
        "            try:\n",
        "                prune.remove(module, \"bias\")\n",
        "            except:\n",
        "                pass\n",
        "    return model"
      ]
    },
    {
      "cell_type": "code",
      "execution_count": 22,
      "metadata": {
        "id": "bSzCYD1q9TBo",
        "colab": {
          "base_uri": "https://localhost:8080/"
        },
        "outputId": "4ac3e6ba-2e6e-4d48-de9f-60456d023e4b"
      },
      "outputs": [
        {
          "output_type": "stream",
          "name": "stdout",
          "text": [
            "time: 2.08 ms (started: 2022-11-23 16:21:57 +00:00)\n"
          ]
        }
      ],
      "source": [
        "# Method for unstructured pruning\n",
        "def unstructured_global_pruning(model, amount):\n",
        "  pruning_model = deepcopy(model)\n",
        "  pruning_model = pruning_model.to(device)\n",
        "\n",
        "  parameters_to_prune = []\n",
        "  for module_name, module in pruning_model.named_modules():\n",
        "      if isinstance(module, torch.nn.Conv2d) or isinstance(module, torch.nn.Linear):\n",
        "          parameters_to_prune.append((module, \"weight\"))\n",
        "\n",
        "  prune.global_unstructured(\n",
        "      parameters = parameters_to_prune,\n",
        "      pruning_method = prune.L1Unstructured,\n",
        "      amount = amount)\n",
        "\n",
        "  pruning_model = remove_parameters(model = pruning_model)\n",
        "\n",
        "  return pruning_model"
      ]
    },
    {
      "cell_type": "code",
      "source": [
        "# Method to evaluated the loss and accuracy of the model\n",
        "def evaluate(model, dataloader):\n",
        "  model.eval()\n",
        "  acc = 0\n",
        "  loss = []\n",
        "  for data, targets in dataloader:\n",
        "    data = data.to(device)\n",
        "    targets = targets.to(device)\n",
        "    out = model(data)\n",
        "    #Get loss\n",
        "    l = criterion(out, targets)\n",
        "    loss.append(l.item())\n",
        "    #Get index of class label\n",
        "    _,preds = torch.max(out.data,1)\n",
        "    #Get accuracy\n",
        "    acc += torch.sum(preds == targets).item()\n",
        "\n",
        "  return 100*acc/len(dataloader.dataset), np.mean(np.array(loss))"
      ],
      "metadata": {
        "colab": {
          "base_uri": "https://localhost:8080/"
        },
        "id": "nbkNBCX_eR0p",
        "outputId": "d7f07e48-3927-4e42-8445-ce5002bf26db"
      },
      "execution_count": 23,
      "outputs": [
        {
          "output_type": "stream",
          "name": "stdout",
          "text": [
            "time: 1.43 ms (started: 2022-11-23 16:21:57 +00:00)\n"
          ]
        }
      ]
    },
    {
      "cell_type": "code",
      "source": [
        "# Method to measure module sparsity\n",
        "def measure_module_sparsity(module, weight=True, bias=False, use_mask=False):\n",
        "    n_zeros = 0\n",
        "    n_elements = 0\n",
        "    if use_mask == True:\n",
        "        for buffer_name, buffer in module.named_buffers():\n",
        "            if \"weight_mask\" in buffer_name and weight == True:\n",
        "                n_zeros += torch.sum(buffer == 0).item()\n",
        "                n_elements += buffer.nelement()\n",
        "            if \"bias_mask\" in buffer_name and bias == True:\n",
        "                n_zeros += torch.sum(buffer == 0).item()\n",
        "                n_elements += buffer.nelement()\n",
        "    else:\n",
        "        for param_name, param in module.named_parameters():\n",
        "            if \"weight\" in param_name and weight == True:\n",
        "                n_zeros += torch.sum(param == 0).item()\n",
        "                n_elements += param.nelement()\n",
        "            if \"bias\" in param_name and bias == True:\n",
        "                n_zeros += torch.sum(param == 0).item()\n",
        "                n_elements += param.nelement()\n",
        "\n",
        "    sparsity = n_zeros / n_elements\n",
        "\n",
        "    return n_zeros, n_elements, sparsity"
      ],
      "metadata": {
        "colab": {
          "base_uri": "https://localhost:8080/"
        },
        "id": "cix42KgylY9T",
        "outputId": "26905959-6583-4e51-fd37-162759c0fd39"
      },
      "execution_count": 24,
      "outputs": [
        {
          "output_type": "stream",
          "name": "stdout",
          "text": [
            "time: 1.72 ms (started: 2022-11-23 16:21:57 +00:00)\n"
          ]
        }
      ]
    },
    {
      "cell_type": "code",
      "source": [
        "# Method to measure Global sparsity\n",
        "def measure_global_sparsity(model,\n",
        "                            weight=True,\n",
        "                            bias=False,\n",
        "                            conv2d_use_mask=False,\n",
        "                            linear_use_mask=False):\n",
        "\n",
        "    n_zeros = 0\n",
        "    n_elements = 0\n",
        "\n",
        "    for module_name, module in model.named_modules():\n",
        "\n",
        "        if isinstance(module, torch.nn.Conv2d):\n",
        "\n",
        "            module_num_zeros, module_num_elements, _ = measure_module_sparsity(\n",
        "                module, weight=weight, bias=bias, use_mask=conv2d_use_mask)\n",
        "            n_zeros += module_num_zeros\n",
        "            n_elements += module_num_elements\n",
        "\n",
        "        elif isinstance(module, torch.nn.Linear):\n",
        "\n",
        "            module_num_zeros, module_num_elements, _ = measure_module_sparsity(\n",
        "                module, weight=weight, bias=bias, use_mask=linear_use_mask)\n",
        "            n_zeros += module_num_zeros\n",
        "            n_elements += module_num_elements\n",
        "\n",
        "    sparsity = n_zeros / n_elements\n",
        "\n",
        "    return n_zeros, n_elements, sparsity"
      ],
      "metadata": {
        "colab": {
          "base_uri": "https://localhost:8080/"
        },
        "id": "t7VZof8tlUlB",
        "outputId": "3243d09e-99c7-4e3f-cbcd-74f8b801191c"
      },
      "execution_count": 25,
      "outputs": [
        {
          "output_type": "stream",
          "name": "stdout",
          "text": [
            "time: 1.34 ms (started: 2022-11-23 16:21:57 +00:00)\n"
          ]
        }
      ]
    },
    {
      "cell_type": "code",
      "source": [
        "# Defining a 'DataLoader' constructor, a Python iterable over a dataset\n",
        "train_dataloader = DataLoader(train_data_set, batch_size = batch_size, shuffle = True)\n",
        "test_dataloader = DataLoader(test_data_set, batch_size = batch_size)"
      ],
      "metadata": {
        "id": "ex3br4BbzoiF",
        "colab": {
          "base_uri": "https://localhost:8080/"
        },
        "outputId": "e1a07ad1-d88f-47d6-f97c-dc50d0906d51"
      },
      "execution_count": 26,
      "outputs": [
        {
          "output_type": "stream",
          "name": "stdout",
          "text": [
            "time: 924 µs (started: 2022-11-23 16:21:57 +00:00)\n"
          ]
        }
      ]
    },
    {
      "cell_type": "markdown",
      "metadata": {
        "id": "BnSK_srGc5sz"
      },
      "source": [
        "# Import Model to be Pruned"
      ]
    },
    {
      "cell_type": "code",
      "execution_count": 27,
      "metadata": {
        "id": "GjAXLxMTcdds",
        "colab": {
          "base_uri": "https://localhost:8080/"
        },
        "outputId": "4d84da54-b8c1-4259-8820-67f206363dcc"
      },
      "outputs": [
        {
          "output_type": "stream",
          "name": "stderr",
          "text": [
            "/usr/local/lib/python3.7/dist-packages/torchvision/models/_utils.py:223: UserWarning: Arguments other than a weight enum or `None` for 'weights' are deprecated since 0.13 and will be removed in 0.15. The current behavior is equivalent to passing `weights=None`.\n",
            "  warnings.warn(msg)\n"
          ]
        },
        {
          "output_type": "stream",
          "name": "stdout",
          "text": [
            "time: 1.77 s (started: 2022-11-23 16:21:57 +00:00)\n"
          ]
        }
      ],
      "source": [
        "vgg16_model = models.vgg16(pretrained = False)\n",
        "vgg16_model.classifier[6].out_features = n_classes"
      ]
    },
    {
      "cell_type": "code",
      "execution_count": 28,
      "metadata": {
        "id": "W5x4AIAdPZh7",
        "colab": {
          "base_uri": "https://localhost:8080/"
        },
        "outputId": "0fdc14e1-5064-48a3-d1c9-e3cdf424ff5e"
      },
      "outputs": [
        {
          "output_type": "stream",
          "name": "stdout",
          "text": [
            "Mounted at /content/gdrive\n",
            "time: 17.5 s (started: 2022-11-23 16:21:59 +00:00)\n"
          ]
        }
      ],
      "source": [
        "from google.colab import drive\n",
        "drive.mount('/content/gdrive')"
      ]
    },
    {
      "cell_type": "code",
      "execution_count": 29,
      "metadata": {
        "id": "4RRfINk5cFWP",
        "colab": {
          "base_uri": "https://localhost:8080/"
        },
        "outputId": "413a4e05-3d6f-4819-f221-1f96f9accb9a"
      },
      "outputs": [
        {
          "output_type": "execute_result",
          "data": {
            "text/plain": [
              "<All keys matched successfully>"
            ]
          },
          "metadata": {},
          "execution_count": 29
        },
        {
          "output_type": "stream",
          "name": "stdout",
          "text": [
            "time: 4.7 s (started: 2022-11-23 16:22:16 +00:00)\n"
          ]
        }
      ],
      "source": [
        "vgg16_model.load_state_dict(torch.load('/content/gdrive/My Drive/Colab Notebooks/VGG16(SGD)-v1.0'))"
      ]
    },
    {
      "cell_type": "code",
      "execution_count": 30,
      "metadata": {
        "id": "VV9kpO1OVHvu",
        "colab": {
          "base_uri": "https://localhost:8080/"
        },
        "outputId": "f3ce3c9b-bbc8-4af7-a643-bf9f2108aad4"
      },
      "outputs": [
        {
          "output_type": "execute_result",
          "data": {
            "text/plain": [
              "VGG(\n",
              "  (features): Sequential(\n",
              "    (0): Conv2d(3, 64, kernel_size=(3, 3), stride=(1, 1), padding=(1, 1))\n",
              "    (1): ReLU(inplace=True)\n",
              "    (2): Conv2d(64, 64, kernel_size=(3, 3), stride=(1, 1), padding=(1, 1))\n",
              "    (3): ReLU(inplace=True)\n",
              "    (4): MaxPool2d(kernel_size=2, stride=2, padding=0, dilation=1, ceil_mode=False)\n",
              "    (5): Conv2d(64, 128, kernel_size=(3, 3), stride=(1, 1), padding=(1, 1))\n",
              "    (6): ReLU(inplace=True)\n",
              "    (7): Conv2d(128, 128, kernel_size=(3, 3), stride=(1, 1), padding=(1, 1))\n",
              "    (8): ReLU(inplace=True)\n",
              "    (9): MaxPool2d(kernel_size=2, stride=2, padding=0, dilation=1, ceil_mode=False)\n",
              "    (10): Conv2d(128, 256, kernel_size=(3, 3), stride=(1, 1), padding=(1, 1))\n",
              "    (11): ReLU(inplace=True)\n",
              "    (12): Conv2d(256, 256, kernel_size=(3, 3), stride=(1, 1), padding=(1, 1))\n",
              "    (13): ReLU(inplace=True)\n",
              "    (14): Conv2d(256, 256, kernel_size=(3, 3), stride=(1, 1), padding=(1, 1))\n",
              "    (15): ReLU(inplace=True)\n",
              "    (16): MaxPool2d(kernel_size=2, stride=2, padding=0, dilation=1, ceil_mode=False)\n",
              "    (17): Conv2d(256, 512, kernel_size=(3, 3), stride=(1, 1), padding=(1, 1))\n",
              "    (18): ReLU(inplace=True)\n",
              "    (19): Conv2d(512, 512, kernel_size=(3, 3), stride=(1, 1), padding=(1, 1))\n",
              "    (20): ReLU(inplace=True)\n",
              "    (21): Conv2d(512, 512, kernel_size=(3, 3), stride=(1, 1), padding=(1, 1))\n",
              "    (22): ReLU(inplace=True)\n",
              "    (23): MaxPool2d(kernel_size=2, stride=2, padding=0, dilation=1, ceil_mode=False)\n",
              "    (24): Conv2d(512, 512, kernel_size=(3, 3), stride=(1, 1), padding=(1, 1))\n",
              "    (25): ReLU(inplace=True)\n",
              "    (26): Conv2d(512, 512, kernel_size=(3, 3), stride=(1, 1), padding=(1, 1))\n",
              "    (27): ReLU(inplace=True)\n",
              "    (28): Conv2d(512, 512, kernel_size=(3, 3), stride=(1, 1), padding=(1, 1))\n",
              "    (29): ReLU(inplace=True)\n",
              "    (30): MaxPool2d(kernel_size=2, stride=2, padding=0, dilation=1, ceil_mode=False)\n",
              "  )\n",
              "  (avgpool): AdaptiveAvgPool2d(output_size=(7, 7))\n",
              "  (classifier): Sequential(\n",
              "    (0): Linear(in_features=25088, out_features=4096, bias=True)\n",
              "    (1): ReLU(inplace=True)\n",
              "    (2): Dropout(p=0.5, inplace=False)\n",
              "    (3): Linear(in_features=4096, out_features=4096, bias=True)\n",
              "    (4): ReLU(inplace=True)\n",
              "    (5): Dropout(p=0.5, inplace=False)\n",
              "    (6): Linear(in_features=4096, out_features=100, bias=True)\n",
              "  )\n",
              ")"
            ]
          },
          "metadata": {},
          "execution_count": 30
        },
        {
          "output_type": "stream",
          "name": "stdout",
          "text": [
            "time: 128 ms (started: 2022-11-23 16:22:21 +00:00)\n"
          ]
        }
      ],
      "source": [
        "device = torch.device(\"cuda\") if torch.cuda.is_available() else torch.device(\"cpu\")\n",
        "vgg16_model.to(device)"
      ]
    },
    {
      "cell_type": "code",
      "execution_count": 31,
      "metadata": {
        "id": "hLt64_teaLKi",
        "colab": {
          "base_uri": "https://localhost:8080/"
        },
        "outputId": "42148993-a412-4a30-ffb3-d9ae73b88cb8"
      },
      "outputs": [
        {
          "output_type": "execute_result",
          "data": {
            "text/plain": [
              "True"
            ]
          },
          "metadata": {},
          "execution_count": 31
        },
        {
          "output_type": "stream",
          "name": "stdout",
          "text": [
            "time: 4.58 ms (started: 2022-11-23 16:22:21 +00:00)\n"
          ]
        }
      ],
      "source": [
        "next(vgg16_model.parameters()).is_cuda"
      ]
    },
    {
      "cell_type": "code",
      "source": [
        "# Measuring Global Sparsity for VGG16 Model\n",
        "num_zeros, num_elements, sparsity = measure_global_sparsity(\n",
        "            vgg16_model,\n",
        "            weight=True,\n",
        "            bias=False,\n",
        "            conv2d_use_mask=False,\n",
        "            linear_use_mask=False)\n",
        "\n",
        "print(\"Global Sparsity:\")\n",
        "print(\"{:.2f}\".format(sparsity))"
      ],
      "metadata": {
        "colab": {
          "base_uri": "https://localhost:8080/"
        },
        "id": "UkulfarCP4q0",
        "outputId": "8f9ba17f-6186-4540-bb9b-21a964f94e1e"
      },
      "execution_count": 32,
      "outputs": [
        {
          "output_type": "stream",
          "name": "stdout",
          "text": [
            "Global Sparsity:\n",
            "0.00\n",
            "time: 31.9 ms (started: 2022-11-23 16:22:21 +00:00)\n"
          ]
        }
      ]
    },
    {
      "cell_type": "markdown",
      "metadata": {
        "id": "q_Spz6ttbBa8"
      },
      "source": [
        "# Unstructured Pruning"
      ]
    },
    {
      "cell_type": "code",
      "execution_count": 33,
      "metadata": {
        "id": "0Z3kdi6SiCj0",
        "colab": {
          "base_uri": "https://localhost:8080/"
        },
        "outputId": "ab68f42f-6209-4c81-e32b-7eabc9a6253d"
      },
      "outputs": [
        {
          "output_type": "stream",
          "name": "stdout",
          "text": [
            "time: 401 ms (started: 2022-11-23 16:22:21 +00:00)\n"
          ]
        }
      ],
      "source": [
        "ustp_model = unstructured_global_pruning(vgg16_model, 0.8)"
      ]
    },
    {
      "cell_type": "code",
      "execution_count": 34,
      "metadata": {
        "id": "mmWLpJeUTxms",
        "colab": {
          "base_uri": "https://localhost:8080/"
        },
        "outputId": "ba5171a4-b0ef-4c8c-c554-b4e423072b07"
      },
      "outputs": [
        {
          "output_type": "execute_result",
          "data": {
            "text/plain": [
              "True"
            ]
          },
          "metadata": {},
          "execution_count": 34
        },
        {
          "output_type": "stream",
          "name": "stdout",
          "text": [
            "time: 5.05 ms (started: 2022-11-23 16:22:22 +00:00)\n"
          ]
        }
      ],
      "source": [
        "next(ustp_model.parameters()).is_cuda"
      ]
    },
    {
      "cell_type": "code",
      "execution_count": 35,
      "metadata": {
        "id": "cOMgxIUI58Vb",
        "colab": {
          "base_uri": "https://localhost:8080/"
        },
        "outputId": "f4d65560-3dc3-4ad5-d565-a30958936fe1"
      },
      "outputs": [
        {
          "output_type": "stream",
          "name": "stdout",
          "text": [
            "Accuracy :  74.28 \tLoss :  1.0741185314336401\n",
            "time: 13.7 s (started: 2022-11-23 16:22:22 +00:00)\n"
          ]
        }
      ],
      "source": [
        "acc, loss = evaluate(ustp_model, test_dataloader)\n",
        "print('Accuracy : ',acc , '\\tLoss : ', loss)"
      ]
    },
    {
      "cell_type": "code",
      "metadata": {
        "colab": {
          "base_uri": "https://localhost:8080/"
        },
        "id": "6vxBPg2xoE9c",
        "outputId": "d26f5864-3008-401a-fab3-9152d853e489"
      },
      "source": [
        "# Measuring Global Sparsity for Unstructured Pruning Model\n",
        "num_zeros, num_elements, sparsity = measure_global_sparsity(\n",
        "            ustp_model,\n",
        "            weight  = True,\n",
        "            bias    = False,\n",
        "            conv2d_use_mask = False,\n",
        "            linear_use_mask = False)\n",
        "\n",
        "print(\"Global Sparsity:\")\n",
        "print(\"{:.2f}\".format(sparsity))"
      ],
      "execution_count": 36,
      "outputs": [
        {
          "output_type": "stream",
          "name": "stdout",
          "text": [
            "Global Sparsity:\n",
            "0.80\n",
            "time: 16.9 ms (started: 2022-11-23 16:22:36 +00:00)\n"
          ]
        }
      ]
    },
    {
      "cell_type": "code",
      "metadata": {
        "colab": {
          "base_uri": "https://localhost:8080/"
        },
        "id": "6_kxpO_NYh1L",
        "outputId": "bac90891-1147-4af4-ac61-5bc6591ad911"
      },
      "source": [
        "# Measuring Sparsity for each layer\n",
        "sparsity_layer = []\n",
        "i = 0\n",
        "layer = []\n",
        "for module_name, module in ustp_model.named_modules():\n",
        "  if isinstance(module, torch.nn.Conv2d) or isinstance(module, torch.nn.Linear):\n",
        "    num_zeros, num_elements, sparsity = measure_module_sparsity(module, weight=True, bias=False, use_mask=False)\n",
        "    print('Layer', i , num_zeros, num_elements, sparsity)\n",
        "    sparsity_layer.append(sparsity)\n",
        "    layer.append(i)\n",
        "    i+= 1"
      ],
      "execution_count": 37,
      "outputs": [
        {
          "output_type": "stream",
          "name": "stdout",
          "text": [
            "Layer 0 56 1728 0.032407407407407406\n",
            "Layer 1 6081 36864 0.16495768229166666\n",
            "Layer 2 12449 73728 0.1688503689236111\n",
            "Layer 3 29101 147456 0.1973537868923611\n",
            "Layer 4 68043 294912 0.23072306315104166\n",
            "Layer 5 164093 589824 0.2782067192925347\n",
            "Layer 6 160281 589824 0.2717437744140625\n",
            "Layer 7 373458 1179648 0.3165842692057292\n",
            "Layer 8 929979 2359296 0.3941764831542969\n",
            "Layer 9 934632 2359296 0.396148681640625\n",
            "Layer 10 897492 2359296 0.3804066975911458\n",
            "Layer 11 905980 2359296 0.3840043809678819\n",
            "Layer 12 995514 2359296 0.42195383707682294\n",
            "Layer 13 93590467 102760448 0.9107635167180276\n",
            "Layer 14 10156255 16777216 0.6053599715232849\n",
            "Layer 15 1451421 4096000 0.354350830078125\n",
            "time: 48.5 ms (started: 2022-11-23 16:22:36 +00:00)\n"
          ]
        }
      ]
    },
    {
      "cell_type": "code",
      "source": [
        "# Plotting Sparsity vs Layers\n",
        "print('Sparsity: ', sparsity_layer)\n",
        "print('Layers: ', layer)\n",
        "\n",
        "plt.plot(sparsity_layer, layer)\n",
        "plt.ylabel('Layers')\n",
        "plt.xlabel('Sparsity')"
      ],
      "metadata": {
        "colab": {
          "base_uri": "https://localhost:8080/",
          "height": 371
        },
        "id": "qAzducc9mzPV",
        "outputId": "1f42dc5e-d006-406f-c385-0bb16e0b3cc9"
      },
      "execution_count": 38,
      "outputs": [
        {
          "output_type": "stream",
          "name": "stdout",
          "text": [
            "Sparsity:  [0.032407407407407406, 0.16495768229166666, 0.1688503689236111, 0.1973537868923611, 0.23072306315104166, 0.2782067192925347, 0.2717437744140625, 0.3165842692057292, 0.3941764831542969, 0.396148681640625, 0.3804066975911458, 0.3840043809678819, 0.42195383707682294, 0.9107635167180276, 0.6053599715232849, 0.354350830078125]\n",
            "Layers:  [0, 1, 2, 3, 4, 5, 6, 7, 8, 9, 10, 11, 12, 13, 14, 15]\n"
          ]
        },
        {
          "output_type": "execute_result",
          "data": {
            "text/plain": [
              "Text(0.5, 0, 'Sparsity')"
            ]
          },
          "metadata": {},
          "execution_count": 38
        },
        {
          "output_type": "display_data",
          "data": {
            "text/plain": [
              "<Figure size 432x288 with 1 Axes>"
            ],
            "image/png": "[encoded data removed]"
          },
          "metadata": {
            "needs_background": "light"
          }
        },
        {
          "output_type": "stream",
          "name": "stdout",
          "text": [
            "time: 229 ms (started: 2022-11-23 16:22:36 +00:00)\n"
          ]
        }
      ]
    },
    {
      "cell_type": "markdown",
      "source": [
        "# Structured Pruning"
      ],
      "metadata": {
        "id": "K2gcgjXMW8hh"
      }
    },
    {
      "cell_type": "code",
      "source": [
        "def structured_pruning(model, sparsity_layer):\n",
        "  prune_model = deepcopy(model)\n",
        "  prune_model = prune_model.to(device)\n",
        "\n",
        "  prunable_module_type = (nn.Conv2d, nn.Linear)\n",
        "  prunable_modules = [ m for m in prune_model.modules() if isinstance(m, prunable_module_type) ]\n",
        "\n",
        "  strategy = tp.strategy.L1Strategy()\n",
        "  DG = tp.DependencyGraph().build_dependency(prune_model, example_inputs = torch.randn(1,3,64,64))\n",
        "\n",
        "  i = 0\n",
        "  for layer_to_prune in prunable_modules:\n",
        "    if isinstance( layer_to_prune, nn.Conv2d ):\n",
        "        prune_fn = tp.prune_conv\n",
        "    elif isinstance(layer_to_prune, nn.Linear):\n",
        "        prune_fn = tp.prune_linear\n",
        "    \n",
        "    pruning_idxs = strategy(layer_to_prune.weight, amount = sparsity_layer[i])\n",
        "    plan = DG.get_pruning_plan( layer_to_prune, prune_fn, pruning_idxs)\n",
        "\n",
        "    i += 1\n",
        "\n",
        "    plan.exec()\n",
        "  \n",
        "  return prune_model"
      ],
      "metadata": {
        "colab": {
          "base_uri": "https://localhost:8080/"
        },
        "id": "REZCXJHUnxYP",
        "outputId": "792edd0f-96c9-424a-e235-a7036b20d858"
      },
      "execution_count": 39,
      "outputs": [
        {
          "output_type": "stream",
          "name": "stdout",
          "text": [
            "time: 1.69 ms (started: 2022-11-23 16:22:36 +00:00)\n"
          ]
        }
      ]
    },
    {
      "cell_type": "code",
      "source": [
        "stp_model = structured_pruning(ustp_model, sparsity_layer)"
      ],
      "metadata": {
        "colab": {
          "base_uri": "https://localhost:8080/"
        },
        "id": "fYaA2EqEoX1B",
        "outputId": "5c473dc8-29e2-427f-8d7b-e605f289bd67"
      },
      "execution_count": 40,
      "outputs": [
        {
          "output_type": "stream",
          "name": "stdout",
          "text": [
            "time: 1.37 s (started: 2022-11-23 16:22:36 +00:00)\n"
          ]
        }
      ]
    },
    {
      "cell_type": "code",
      "source": [
        "tp.utils.count_params(stp_model)"
      ],
      "metadata": {
        "colab": {
          "base_uri": "https://localhost:8080/"
        },
        "id": "gUwrae7YofpJ",
        "outputId": "c53483fc-9de7-4c90-a3e5-fada1c147a1f"
      },
      "execution_count": 41,
      "outputs": [
        {
          "output_type": "execute_result",
          "data": {
            "text/plain": [
              "12141667"
            ]
          },
          "metadata": {},
          "execution_count": 41
        },
        {
          "output_type": "stream",
          "name": "stdout",
          "text": [
            "time: 5.1 ms (started: 2022-11-23 16:22:37 +00:00)\n"
          ]
        }
      ]
    },
    {
      "cell_type": "code",
      "source": [
        "stp_model.classifier[6].out_features = 100\n",
        "print(stp_model)"
      ],
      "metadata": {
        "colab": {
          "base_uri": "https://localhost:8080/"
        },
        "id": "XxcVZmJFokBK",
        "outputId": "9708449a-e660-4b50-b40e-c25bc91dca53"
      },
      "execution_count": 42,
      "outputs": [
        {
          "output_type": "stream",
          "name": "stdout",
          "text": [
            "VGG(\n",
            "  (features): Sequential(\n",
            "    (0): Conv2d(3, 62, kernel_size=(3, 3), stride=(1, 1), padding=(1, 1))\n",
            "    (1): ReLU(inplace=True)\n",
            "    (2): Conv2d(62, 54, kernel_size=(3, 3), stride=(1, 1), padding=(1, 1))\n",
            "    (3): ReLU(inplace=True)\n",
            "    (4): MaxPool2d(kernel_size=2, stride=2, padding=0, dilation=1, ceil_mode=False)\n",
            "    (5): Conv2d(54, 107, kernel_size=(3, 3), stride=(1, 1), padding=(1, 1))\n",
            "    (6): ReLU(inplace=True)\n",
            "    (7): Conv2d(107, 103, kernel_size=(3, 3), stride=(1, 1), padding=(1, 1))\n",
            "    (8): ReLU(inplace=True)\n",
            "    (9): MaxPool2d(kernel_size=2, stride=2, padding=0, dilation=1, ceil_mode=False)\n",
            "    (10): Conv2d(103, 197, kernel_size=(3, 3), stride=(1, 1), padding=(1, 1))\n",
            "    (11): ReLU(inplace=True)\n",
            "    (12): Conv2d(197, 185, kernel_size=(3, 3), stride=(1, 1), padding=(1, 1))\n",
            "    (13): ReLU(inplace=True)\n",
            "    (14): Conv2d(185, 187, kernel_size=(3, 3), stride=(1, 1), padding=(1, 1))\n",
            "    (15): ReLU(inplace=True)\n",
            "    (16): MaxPool2d(kernel_size=2, stride=2, padding=0, dilation=1, ceil_mode=False)\n",
            "    (17): Conv2d(187, 350, kernel_size=(3, 3), stride=(1, 1), padding=(1, 1))\n",
            "    (18): ReLU(inplace=True)\n",
            "    (19): Conv2d(350, 311, kernel_size=(3, 3), stride=(1, 1), padding=(1, 1))\n",
            "    (20): ReLU(inplace=True)\n",
            "    (21): Conv2d(311, 310, kernel_size=(3, 3), stride=(1, 1), padding=(1, 1))\n",
            "    (22): ReLU(inplace=True)\n",
            "    (23): MaxPool2d(kernel_size=2, stride=2, padding=0, dilation=1, ceil_mode=False)\n",
            "    (24): Conv2d(310, 318, kernel_size=(3, 3), stride=(1, 1), padding=(1, 1))\n",
            "    (25): ReLU(inplace=True)\n",
            "    (26): Conv2d(318, 316, kernel_size=(3, 3), stride=(1, 1), padding=(1, 1))\n",
            "    (27): ReLU(inplace=True)\n",
            "    (28): Conv2d(316, 296, kernel_size=(3, 3), stride=(1, 1), padding=(1, 1))\n",
            "    (29): ReLU(inplace=True)\n",
            "    (30): MaxPool2d(kernel_size=2, stride=2, padding=0, dilation=1, ceil_mode=False)\n",
            "  )\n",
            "  (avgpool): AdaptiveAvgPool2d(output_size=(7, 7))\n",
            "  (classifier): Sequential(\n",
            "    (0): Linear(in_features=14504, out_features=366, bias=True)\n",
            "    (1): ReLU(inplace=True)\n",
            "    (2): Dropout(p=0.5, inplace=False)\n",
            "    (3): Linear(in_features=366, out_features=1617, bias=True)\n",
            "    (4): ReLU(inplace=True)\n",
            "    (5): Dropout(p=0.5, inplace=False)\n",
            "    (6): Linear(in_features=1617, out_features=100, bias=True)\n",
            "  )\n",
            ")\n",
            "time: 1.07 ms (started: 2022-11-23 16:22:37 +00:00)\n"
          ]
        }
      ]
    },
    {
      "cell_type": "code",
      "source": [
        "stp_model = stp_model.to(device)\n",
        "acc, loss = evaluate(stp_model, test_dataloader)\n",
        "print('Accuracy : ',acc , '\\tLoss : ', loss)"
      ],
      "metadata": {
        "colab": {
          "base_uri": "https://localhost:8080/"
        },
        "id": "sAlhQyh3on5p",
        "outputId": "45ad684c-5324-4d96-d66b-fca084a3e46b"
      },
      "execution_count": 43,
      "outputs": [
        {
          "output_type": "stream",
          "name": "stdout",
          "text": [
            "Accuracy :  5.59 \tLoss :  4.495658479678403\n",
            "time: 6.76 s (started: 2022-11-23 16:22:37 +00:00)\n"
          ]
        }
      ]
    },
    {
      "cell_type": "markdown",
      "source": [
        "# Fine Tuning"
      ],
      "metadata": {
        "id": "kqd25_DdUUJf"
      }
    },
    {
      "cell_type": "code",
      "source": [
        "sgd_optimizer = torch.optim.SGD(stp_model.parameters(), lr = 0.001, momentum = 0.9)\n",
        "epochs = 10\n",
        "\n",
        "for epoch in range(epochs):\n",
        "  #Fit model\n",
        "  fit(stp_model, train_dataloader, sgd_optimizer, None, criterion)\n",
        "\n",
        "  #Train validation\n",
        "  trn_acc, trn_lss = evaluate(stp_model, train_dataloader)\n",
        "\n",
        "  #Test validation\n",
        "  tst_acc, tst_lss = evaluate(stp_model, test_dataloader)\n",
        "\n",
        "  print(f'Epoch:{epoch+1:2.0f}\\t Train_Loss:{trn_lss:.4f}\\t Train_Acc:{trn_acc:.4f}\\t Test_Loss:{tst_lss:.4f}\\t Test_Acc:{tst_acc:.4f}')"
      ],
      "metadata": {
        "colab": {
          "base_uri": "https://localhost:8080/"
        },
        "id": "GPQAsD5rotdo",
        "outputId": "06bf074f-d8ef-4577-8e53-d80f408c6b45"
      },
      "execution_count": 44,
      "outputs": [
        {
          "output_type": "stream",
          "name": "stdout",
          "text": [
            "Epoch: 1\t Train_Loss:1.0825\t Train_Acc:68.1020\t Test_Loss:1.3296\t Test_Acc:61.7100\n",
            "Epoch: 2\t Train_Loss:0.7660\t Train_Acc:77.3480\t Test_Loss:1.1554\t Test_Acc:67.3200\n",
            "Epoch: 3\t Train_Loss:0.6486\t Train_Acc:80.4680\t Test_Loss:1.1146\t Test_Acc:68.9100\n",
            "Epoch: 4\t Train_Loss:0.5680\t Train_Acc:82.6600\t Test_Loss:1.1154\t Test_Acc:70.0900\n",
            "Epoch: 5\t Train_Loss:0.5148\t Train_Acc:84.3440\t Test_Loss:1.1142\t Test_Acc:70.4000\n",
            "Epoch: 6\t Train_Loss:0.4645\t Train_Acc:85.4060\t Test_Loss:1.1414\t Test_Acc:70.5400\n",
            "Epoch: 7\t Train_Loss:0.4536\t Train_Acc:85.9820\t Test_Loss:1.2155\t Test_Acc:70.1100\n",
            "Epoch: 8\t Train_Loss:0.3847\t Train_Acc:88.0760\t Test_Loss:1.1261\t Test_Acc:71.4100\n",
            "Epoch: 9\t Train_Loss:0.3522\t Train_Acc:89.0120\t Test_Loss:1.1774\t Test_Acc:71.8500\n",
            "Epoch:10\t Train_Loss:0.3247\t Train_Acc:89.9220\t Test_Loss:1.1465\t Test_Acc:72.1000\n",
            "time: 16min 59s (started: 2022-11-23 16:22:44 +00:00)\n"
          ]
        }
      ]
    },
    {
      "cell_type": "code",
      "source": [
        "sgd_optimizer = torch.optim.SGD(stp_model.parameters(), lr = 0.0001, momentum = 0.9)\n",
        "epochs = 5\n",
        "\n",
        "for epoch in range(epochs):\n",
        "  #Fit model\n",
        "  fit(stp_model, train_dataloader, sgd_optimizer, None, criterion)\n",
        "\n",
        "  #Train validation\n",
        "  trn_acc, trn_lss = evaluate(stp_model, train_dataloader)\n",
        "\n",
        "  #Test validation\n",
        "  tst_acc, tst_lss = evaluate(stp_model, test_dataloader)\n",
        "\n",
        "  print(f'Epoch:{epoch+11:2.0f}\\t Train_Loss:{trn_lss:.4f}\\t Train_Acc:{trn_acc:.4f}\\t Test_Loss:{tst_lss:.4f}\\t Test_Acc:{tst_acc:.4f}')"
      ],
      "metadata": {
        "colab": {
          "base_uri": "https://localhost:8080/"
        },
        "id": "s1JUwJiDuxmr",
        "outputId": "86b83343-205e-4993-db82-c717f870c32b"
      },
      "execution_count": 45,
      "outputs": [
        {
          "output_type": "stream",
          "name": "stdout",
          "text": [
            "Epoch:11\t Train_Loss:0.2374\t Train_Acc:92.5840\t Test_Loss:1.1544\t Test_Acc:73.5600\n",
            "Epoch:12\t Train_Loss:0.2205\t Train_Acc:93.0360\t Test_Loss:1.1597\t Test_Acc:73.8100\n",
            "Epoch:13\t Train_Loss:0.2100\t Train_Acc:93.4580\t Test_Loss:1.1679\t Test_Acc:73.9500\n",
            "Epoch:14\t Train_Loss:0.2061\t Train_Acc:93.5200\t Test_Loss:1.1802\t Test_Acc:74.0200\n",
            "Epoch:15\t Train_Loss:0.1971\t Train_Acc:93.8000\t Test_Loss:1.1852\t Test_Acc:73.7500\n",
            "time: 8min 21s (started: 2022-11-23 16:39:43 +00:00)\n"
          ]
        }
      ]
    },
    {
      "cell_type": "code",
      "source": [
        "sgd_optimizer = torch.optim.SGD(stp_model.parameters(), lr = 0.00001, momentum = 0.9)\n",
        "epochs = 5\n",
        "\n",
        "for epoch in range(epochs):\n",
        "  #Fit model\n",
        "  fit(stp_model, train_dataloader, sgd_optimizer, None , criterion)\n",
        "\n",
        "  #Train validation\n",
        "  trn_acc, trn_lss = evaluate(stp_model, train_dataloader)\n",
        "\n",
        "  #Test validation\n",
        "  tst_acc, tst_lss = evaluate(stp_model, test_dataloader)\n",
        "\n",
        "  print(f'Epoch:{epoch+16:2.0f}\\t Train_Loss:{trn_lss:.4f}\\t Train_Acc:{trn_acc:.4f}\\t Test_Loss:{tst_lss:.4f}\\t Test_Acc:{tst_acc:.4f}')"
      ],
      "metadata": {
        "colab": {
          "base_uri": "https://localhost:8080/"
        },
        "id": "z91J0U0_uvLo",
        "outputId": "09da5b29-fe9c-4f79-cc6b-a6d1debc2ff9"
      },
      "execution_count": 46,
      "outputs": [
        {
          "output_type": "stream",
          "name": "stdout",
          "text": [
            "Epoch:16\t Train_Loss:0.1911\t Train_Acc:93.9160\t Test_Loss:1.1832\t Test_Acc:74.0800\n",
            "Epoch:17\t Train_Loss:0.1900\t Train_Acc:93.9560\t Test_Loss:1.1863\t Test_Acc:74.1600\n",
            "Epoch:18\t Train_Loss:0.1895\t Train_Acc:94.0020\t Test_Loss:1.1915\t Test_Acc:74.1100\n",
            "Epoch:19\t Train_Loss:0.1871\t Train_Acc:94.1100\t Test_Loss:1.1924\t Test_Acc:74.2000\n",
            "Epoch:20\t Train_Loss:0.1911\t Train_Acc:93.9940\t Test_Loss:1.1917\t Test_Acc:74.2700\n",
            "time: 8min 17s (started: 2022-11-23 16:48:05 +00:00)\n"
          ]
        }
      ]
    },
    {
      "cell_type": "code",
      "source": [
        "acc, loss = evaluate(stp_model, test_dataloader)\n",
        "print('Accuracy : ',acc , '\\tLoss : ', loss)"
      ],
      "metadata": {
        "colab": {
          "base_uri": "https://localhost:8080/"
        },
        "id": "YyLP223u34x8",
        "outputId": "5518b68f-d670-47ef-f7db-1e4f4f19a0dc"
      },
      "execution_count": 47,
      "outputs": [
        {
          "output_type": "stream",
          "name": "stdout",
          "text": [
            "Accuracy :  74.27 \tLoss :  1.1917258451698691\n",
            "time: 6.03 s (started: 2022-11-23 16:56:23 +00:00)\n"
          ]
        }
      ]
    },
    {
      "cell_type": "code",
      "source": [
        "torch.save(stp_model, 'pruned_model.pt')"
      ],
      "metadata": {
        "colab": {
          "base_uri": "https://localhost:8080/"
        },
        "id": "24SH-v7b4VCN",
        "outputId": "4b11c336-03fe-4d2e-bbb6-2c1f41ab594f"
      },
      "execution_count": 60,
      "outputs": [
        {
          "output_type": "stream",
          "name": "stdout",
          "text": [
            "time: 102 ms (started: 2022-11-23 17:26:12 +00:00)\n"
          ]
        }
      ]
    },
    {
      "cell_type": "code",
      "source": [
        "import sys\n",
        "sys.getsizeof('pruned_model.pt')"
      ],
      "metadata": {
        "colab": {
          "base_uri": "https://localhost:8080/"
        },
        "id": "9xrfgfpC5x-C",
        "outputId": "25109096-a71d-49a6-9387-d82ce7e5cb7f"
      },
      "execution_count": 61,
      "outputs": [
        {
          "output_type": "execute_result",
          "data": {
            "text/plain": [
              "64"
            ]
          },
          "metadata": {},
          "execution_count": 61
        },
        {
          "output_type": "stream",
          "name": "stdout",
          "text": [
            "time: 3.17 ms (started: 2022-11-23 17:26:14 +00:00)\n"
          ]
        }
      ]
    },
    {
      "cell_type": "code",
      "source": [
        "import os\n",
        "pruned_model_size = os.path.getsize('pruned_model.pt')\n",
        "print(\"Pruned Model Size is :\", pruned_model_size/(1024*1024), \"mb\")"
      ],
      "metadata": {
        "colab": {
          "base_uri": "https://localhost:8080/"
        },
        "id": "OqUJ6DZ060VV",
        "outputId": "a8484539-3bb9-4fe1-d7df-960b7e036a8e"
      },
      "execution_count": 62,
      "outputs": [
        {
          "output_type": "stream",
          "name": "stdout",
          "text": [
            "Pruned Model Size is : 46.33374500274658 mb\n",
            "time: 876 µs (started: 2022-11-23 17:26:17 +00:00)\n"
          ]
        }
      ]
    },
    {
      "cell_type": "code",
      "source": [
        "original_model_size = os.path.getsize('/content/gdrive/My Drive/Colab Notebooks/VGG16(SGD)-v1.0')\n",
        "print(\"Original VGG16 Model Size is :\", original_model_size/(1024*1024), \"mb\")"
      ],
      "metadata": {
        "colab": {
          "base_uri": "https://localhost:8080/"
        },
        "id": "9cqF9oYm7zN8",
        "outputId": "d3deb19f-4681-4b34-c536-b0c8baa0175c"
      },
      "execution_count": 63,
      "outputs": [
        {
          "output_type": "stream",
          "name": "stdout",
          "text": [
            "Original VGG16 Model Size is : 527.8022508621216 mb\n",
            "time: 2.46 ms (started: 2022-11-23 17:26:19 +00:00)\n"
          ]
        }
      ]
    },
    {
      "cell_type": "code",
      "source": [
        "!pip install pytorch_lightning"
      ],
      "metadata": {
        "colab": {
          "base_uri": "https://localhost:8080/"
        },
        "id": "q_a0M2do-HgE",
        "outputId": "1743d670-4186-4d85-d2e3-20c9eab9a6e0"
      },
      "execution_count": 64,
      "outputs": [
        {
          "output_type": "stream",
          "name": "stdout",
          "text": [
            "Looking in indexes: https://pypi.org/simple, https://us-python.pkg.dev/colab-wheels/public/simple/\n",
            "Requirement already satisfied: pytorch_lightning in /usr/local/lib/python3.7/dist-packages (1.8.3.post0)\n",
            "Requirement already satisfied: PyYAML>=5.4 in /usr/local/lib/python3.7/dist-packages (from pytorch_lightning) (6.0)\n",
            "Requirement already satisfied: numpy>=1.17.2 in /usr/local/lib/python3.7/dist-packages (from pytorch_lightning) (1.21.6)\n",
            "Requirement already satisfied: fsspec[http]>2021.06.0 in /usr/local/lib/python3.7/dist-packages (from pytorch_lightning) (2022.11.0)\n",
            "Requirement already satisfied: tensorboardX>=2.2 in /usr/local/lib/python3.7/dist-packages (from pytorch_lightning) (2.5.1)\n",
            "Requirement already satisfied: torchmetrics>=0.7.0 in /usr/local/lib/python3.7/dist-packages (from pytorch_lightning) (0.10.3)\n",
            "Requirement already satisfied: typing-extensions>=4.0.0 in /usr/local/lib/python3.7/dist-packages (from pytorch_lightning) (4.1.1)\n",
            "Requirement already satisfied: tqdm>=4.57.0 in /usr/local/lib/python3.7/dist-packages (from pytorch_lightning) (4.64.1)\n",
            "Requirement already satisfied: packaging>=17.0 in /usr/local/lib/python3.7/dist-packages (from pytorch_lightning) (21.3)\n",
            "Requirement already satisfied: lightning-utilities==0.3.* in /usr/local/lib/python3.7/dist-packages (from pytorch_lightning) (0.3.0)\n",
            "Requirement already satisfied: torch>=1.9.* in /usr/local/lib/python3.7/dist-packages (from pytorch_lightning) (1.12.1+cu113)\n",
            "Requirement already satisfied: fire in /usr/local/lib/python3.7/dist-packages (from lightning-utilities==0.3.*->pytorch_lightning) (0.4.0)\n",
            "Requirement already satisfied: aiohttp!=4.0.0a0,!=4.0.0a1 in /usr/local/lib/python3.7/dist-packages (from fsspec[http]>2021.06.0->pytorch_lightning) (3.8.3)\n",
            "Requirement already satisfied: requests in /usr/local/lib/python3.7/dist-packages (from fsspec[http]>2021.06.0->pytorch_lightning) (2.23.0)\n",
            "Requirement already satisfied: multidict<7.0,>=4.5 in /usr/local/lib/python3.7/dist-packages (from aiohttp!=4.0.0a0,!=4.0.0a1->fsspec[http]>2021.06.0->pytorch_lightning) (6.0.2)\n",
            "Requirement already satisfied: attrs>=17.3.0 in /usr/local/lib/python3.7/dist-packages (from aiohttp!=4.0.0a0,!=4.0.0a1->fsspec[http]>2021.06.0->pytorch_lightning) (22.1.0)\n",
            "Requirement already satisfied: async-timeout<5.0,>=4.0.0a3 in /usr/local/lib/python3.7/dist-packages (from aiohttp!=4.0.0a0,!=4.0.0a1->fsspec[http]>2021.06.0->pytorch_lightning) (4.0.2)\n",
            "Requirement already satisfied: frozenlist>=1.1.1 in /usr/local/lib/python3.7/dist-packages (from aiohttp!=4.0.0a0,!=4.0.0a1->fsspec[http]>2021.06.0->pytorch_lightning) (1.3.3)\n",
            "Requirement already satisfied: aiosignal>=1.1.2 in /usr/local/lib/python3.7/dist-packages (from aiohttp!=4.0.0a0,!=4.0.0a1->fsspec[http]>2021.06.0->pytorch_lightning) (1.3.1)\n",
            "Requirement already satisfied: charset-normalizer<3.0,>=2.0 in /usr/local/lib/python3.7/dist-packages (from aiohttp!=4.0.0a0,!=4.0.0a1->fsspec[http]>2021.06.0->pytorch_lightning) (2.1.1)\n",
            "Requirement already satisfied: asynctest==0.13.0 in /usr/local/lib/python3.7/dist-packages (from aiohttp!=4.0.0a0,!=4.0.0a1->fsspec[http]>2021.06.0->pytorch_lightning) (0.13.0)\n",
            "Requirement already satisfied: yarl<2.0,>=1.0 in /usr/local/lib/python3.7/dist-packages (from aiohttp!=4.0.0a0,!=4.0.0a1->fsspec[http]>2021.06.0->pytorch_lightning) (1.8.1)\n",
            "Requirement already satisfied: pyparsing!=3.0.5,>=2.0.2 in /usr/local/lib/python3.7/dist-packages (from packaging>=17.0->pytorch_lightning) (3.0.9)\n",
            "Requirement already satisfied: protobuf<=3.20.1,>=3.8.0 in /usr/local/lib/python3.7/dist-packages (from tensorboardX>=2.2->pytorch_lightning) (3.19.6)\n",
            "Requirement already satisfied: idna>=2.0 in /usr/local/lib/python3.7/dist-packages (from yarl<2.0,>=1.0->aiohttp!=4.0.0a0,!=4.0.0a1->fsspec[http]>2021.06.0->pytorch_lightning) (2.10)\n",
            "Requirement already satisfied: six in /usr/local/lib/python3.7/dist-packages (from fire->lightning-utilities==0.3.*->pytorch_lightning) (1.15.0)\n",
            "Requirement already satisfied: termcolor in /usr/local/lib/python3.7/dist-packages (from fire->lightning-utilities==0.3.*->pytorch_lightning) (2.1.0)\n",
            "Requirement already satisfied: certifi>=2017.4.17 in /usr/local/lib/python3.7/dist-packages (from requests->fsspec[http]>2021.06.0->pytorch_lightning) (2022.9.24)\n",
            "Requirement already satisfied: urllib3!=1.25.0,!=1.25.1,<1.26,>=1.21.1 in /usr/local/lib/python3.7/dist-packages (from requests->fsspec[http]>2021.06.0->pytorch_lightning) (1.24.3)\n",
            "Requirement already satisfied: chardet<4,>=3.0.2 in /usr/local/lib/python3.7/dist-packages (from requests->fsspec[http]>2021.06.0->pytorch_lightning) (3.0.4)\n",
            "time: 3 s (started: 2022-11-23 17:26:29 +00:00)\n"
          ]
        }
      ]
    },
    {
      "cell_type": "code",
      "source": [
        "vgg16_model_2 = models.vgg16(pretrained = False)"
      ],
      "metadata": {
        "colab": {
          "base_uri": "https://localhost:8080/"
        },
        "id": "hehyXxxm-mNV",
        "outputId": "fc1c5f0b-58f7-4bf1-8f44-30656d34da64"
      },
      "execution_count": 65,
      "outputs": [
        {
          "output_type": "stream",
          "name": "stdout",
          "text": [
            "time: 4.05 s (started: 2022-11-23 17:26:38 +00:00)\n"
          ]
        }
      ]
    },
    {
      "cell_type": "code",
      "source": [
        "# from pytorch_lightning.callbacks import QuantizationAwareTraining\n",
        "# vgg16_model_2.load_state_dict(torch.load('pruned_model.pt'))\n",
        "\n",
        "import torch, torchvision.models\n",
        "model = torchvision.models.vgg16()\n",
        "path = 'pruned_model.pt'\n",
        "torch.save(model.state_dict(), path) # nothing else here\n",
        "model.load_state_dict(torch.load(path))"
      ],
      "metadata": {
        "colab": {
          "base_uri": "https://localhost:8080/"
        },
        "id": "Idn9DwatjUrW",
        "outputId": "33780f30-0644-4a1a-a23b-e4a32506d9dc"
      },
      "execution_count": 1,
      "outputs": [
        {
          "output_type": "execute_result",
          "data": {
            "text/plain": [
              "<All keys matched successfully>"
            ]
          },
          "metadata": {},
          "execution_count": 1
        }
      ]
    },
    {
      "cell_type": "code",
      "source": [
        "import torch.quantization\n",
        "quantized_model = torch.quantization.quantize_dynamic(model, {torch.nn.Linear}, dtype=torch.qint8)"
      ],
      "metadata": {
        "id": "FbHc-6vt_31G"
      },
      "execution_count": 8,
      "outputs": []
    },
    {
      "cell_type": "code",
      "source": [
        "trainer = Trainer(callbacks=[QuantizationAwareTraining()])\n",
        "qmodel = torch.load('pruned_model.pt')\n",
        "trainer.fit(qmodel, ...)\n",
        "\n",
        "batch = iter(my_dataloader()).next()\n",
        "qmodel(qmodel.quant(batch[0]))\n",
        "\n",
        "tsmodel = qmodel.to_torchscript()\n",
        "tsmodel(tsmodel.quant(batch[0]))"
      ],
      "metadata": {
        "colab": {
          "base_uri": "https://localhost:8080/",
          "height": 242
        },
        "id": "wTXbIk6G95vE",
        "outputId": "89095756-9d8b-423a-d2e3-728490860d63"
      },
      "execution_count": 6,
      "outputs": [
        {
          "output_type": "error",
          "ename": "NameError",
          "evalue": "ignored",
          "traceback": [
            "\u001b[0;31m---------------------------------------------------------------------------\u001b[0m",
            "\u001b[0;31mNameError\u001b[0m                                 Traceback (most recent call last)",
            "\u001b[0;32m<ipython-input-6-0fe4749b24c7>\u001b[0m in \u001b[0;36m<module>\u001b[0;34m\u001b[0m\n\u001b[0;32m----> 1\u001b[0;31m \u001b[0mtrainer\u001b[0m \u001b[0;34m=\u001b[0m \u001b[0mTrainer\u001b[0m\u001b[0;34m(\u001b[0m\u001b[0mcallbacks\u001b[0m\u001b[0;34m=\u001b[0m\u001b[0;34m[\u001b[0m\u001b[0mQuantizationAwareTraining\u001b[0m\u001b[0;34m(\u001b[0m\u001b[0;34m)\u001b[0m\u001b[0;34m]\u001b[0m\u001b[0;34m)\u001b[0m\u001b[0;34m\u001b[0m\u001b[0;34m\u001b[0m\u001b[0m\n\u001b[0m\u001b[1;32m      2\u001b[0m \u001b[0mqmodel\u001b[0m \u001b[0;34m=\u001b[0m \u001b[0mtorch\u001b[0m\u001b[0;34m.\u001b[0m\u001b[0mload\u001b[0m\u001b[0;34m(\u001b[0m\u001b[0;34m'pruned_model.pt'\u001b[0m\u001b[0;34m)\u001b[0m\u001b[0;34m\u001b[0m\u001b[0;34m\u001b[0m\u001b[0m\n\u001b[1;32m      3\u001b[0m \u001b[0mtrainer\u001b[0m\u001b[0;34m.\u001b[0m\u001b[0mfit\u001b[0m\u001b[0;34m(\u001b[0m\u001b[0mqmodel\u001b[0m\u001b[0;34m,\u001b[0m \u001b[0;34m...\u001b[0m\u001b[0;34m)\u001b[0m\u001b[0;34m\u001b[0m\u001b[0;34m\u001b[0m\u001b[0m\n\u001b[1;32m      4\u001b[0m \u001b[0;34m\u001b[0m\u001b[0m\n\u001b[1;32m      5\u001b[0m \u001b[0mbatch\u001b[0m \u001b[0;34m=\u001b[0m \u001b[0miter\u001b[0m\u001b[0;34m(\u001b[0m\u001b[0mmy_dataloader\u001b[0m\u001b[0;34m(\u001b[0m\u001b[0;34m)\u001b[0m\u001b[0;34m)\u001b[0m\u001b[0;34m.\u001b[0m\u001b[0mnext\u001b[0m\u001b[0;34m(\u001b[0m\u001b[0;34m)\u001b[0m\u001b[0;34m\u001b[0m\u001b[0;34m\u001b[0m\u001b[0m\n",
            "\u001b[0;31mNameError\u001b[0m: name 'Trainer' is not defined"
          ]
        }
      ]
    }
  ],
  "metadata": {
    "accelerator": "GPU",
    "colab": {
      "provenance": []
    },
    "kernelspec": {
      "display_name": "Python 3",
      "language": "python",
      "name": "python3"
    },
    "language_info": {
      "codemirror_mode": {
        "name": "ipython",
        "version": 3
      },
      "file_extension": ".py",
      "mimetype": "text/x-python",
      "name": "python",
      "nbconvert_exporter": "python",
      "pygments_lexer": "ipython3",
      "version": "3.8.6"
    },
    "widgets": {
      "application/vnd.jupyter.widget-state+json": {
        "2ccaee79d5ad44a7a8aed48582a184c8": {
          "model_module": "@jupyter-widgets/controls",
          "model_name": "HBoxModel",
          "model_module_version": "1.5.0",
          "state": {
            "_dom_classes": [],
            "_model_module": "@jupyter-widgets/controls",
            "_model_module_version": "1.5.0",
            "_model_name": "HBoxModel",
            "_view_count": null,
            "_view_module": "@jupyter-widgets/controls",
            "_view_module_version": "1.5.0",
            "_view_name": "HBoxView",
            "box_style": "",
            "children": [
              "IPY_MODEL_722851e474c648049bff4d07d674997b",
              "IPY_MODEL_5adb64a7c5bb45e4a9abcfbd40306bf3",
              "IPY_MODEL_bbcb61dbf9bc4078823a32acd4dd4fbe"
            ],
            "layout": "IPY_MODEL_54b8996b6ee5490a8ed933a56fb1c51a"
          }
        },
        "722851e474c648049bff4d07d674997b": {
          "model_module": "@jupyter-widgets/controls",
          "model_name": "HTMLModel",
          "model_module_version": "1.5.0",
          "state": {
            "_dom_classes": [],
            "_model_module": "@jupyter-widgets/controls",
            "_model_module_version": "1.5.0",
            "_model_name": "HTMLModel",
            "_view_count": null,
            "_view_module": "@jupyter-widgets/controls",
            "_view_module_version": "1.5.0",
            "_view_name": "HTMLView",
            "description": "",
            "description_tooltip": null,
            "layout": "IPY_MODEL_3db4816a5051412282de8d9eb9331e17",
            "placeholder": "​",
            "style": "IPY_MODEL_f6d8519d3c8841a5aa366be406b53985",
            "value": "100%"
          }
        },
        "5adb64a7c5bb45e4a9abcfbd40306bf3": {
          "model_module": "@jupyter-widgets/controls",
          "model_name": "FloatProgressModel",
          "model_module_version": "1.5.0",
          "state": {
            "_dom_classes": [],
            "_model_module": "@jupyter-widgets/controls",
            "_model_module_version": "1.5.0",
            "_model_name": "FloatProgressModel",
            "_view_count": null,
            "_view_module": "@jupyter-widgets/controls",
            "_view_module_version": "1.5.0",
            "_view_name": "ProgressView",
            "bar_style": "success",
            "description": "",
            "description_tooltip": null,
            "layout": "IPY_MODEL_4128ad1a3d574612a03aec608439550e",
            "max": 169001437,
            "min": 0,
            "orientation": "horizontal",
            "style": "IPY_MODEL_b7f5e48de1f24f99ae4731941d56584c",
            "value": 169001437
          }
        },
        "bbcb61dbf9bc4078823a32acd4dd4fbe": {
          "model_module": "@jupyter-widgets/controls",
          "model_name": "HTMLModel",
          "model_module_version": "1.5.0",
          "state": {
            "_dom_classes": [],
            "_model_module": "@jupyter-widgets/controls",
            "_model_module_version": "1.5.0",
            "_model_name": "HTMLModel",
            "_view_count": null,
            "_view_module": "@jupyter-widgets/controls",
            "_view_module_version": "1.5.0",
            "_view_name": "HTMLView",
            "description": "",
            "description_tooltip": null,
            "layout": "IPY_MODEL_a11258d5654c42b6a51c091f6941d343",
            "placeholder": "​",
            "style": "IPY_MODEL_a9f6530e293f4d88962ce4d180551fb7",
            "value": " 169001437/169001437 [00:01&lt;00:00, 109950493.31it/s]"
          }
        },
        "54b8996b6ee5490a8ed933a56fb1c51a": {
          "model_module": "@jupyter-widgets/base",
          "model_name": "LayoutModel",
          "model_module_version": "1.2.0",
          "state": {
            "_model_module": "@jupyter-widgets/base",
            "_model_module_version": "1.2.0",
            "_model_name": "LayoutModel",
            "_view_count": null,
            "_view_module": "@jupyter-widgets/base",
            "_view_module_version": "1.2.0",
            "_view_name": "LayoutView",
            "align_content": null,
            "align_items": null,
            "align_self": null,
            "border": null,
            "bottom": null,
            "display": null,
            "flex": null,
            "flex_flow": null,
            "grid_area": null,
            "grid_auto_columns": null,
            "grid_auto_flow": null,
            "grid_auto_rows": null,
            "grid_column": null,
            "grid_gap": null,
            "grid_row": null,
            "grid_template_areas": null,
            "grid_template_columns": null,
            "grid_template_rows": null,
            "height": null,
            "justify_content": null,
            "justify_items": null,
            "left": null,
            "margin": null,
            "max_height": null,
            "max_width": null,
            "min_height": null,
            "min_width": null,
            "object_fit": null,
            "object_position": null,
            "order": null,
            "overflow": null,
            "overflow_x": null,
            "overflow_y": null,
            "padding": null,
            "right": null,
            "top": null,
            "visibility": null,
            "width": null
          }
        },
        "3db4816a5051412282de8d9eb9331e17": {
          "model_module": "@jupyter-widgets/base",
          "model_name": "LayoutModel",
          "model_module_version": "1.2.0",
          "state": {
            "_model_module": "@jupyter-widgets/base",
            "_model_module_version": "1.2.0",
            "_model_name": "LayoutModel",
            "_view_count": null,
            "_view_module": "@jupyter-widgets/base",
            "_view_module_version": "1.2.0",
            "_view_name": "LayoutView",
            "align_content": null,
            "align_items": null,
            "align_self": null,
            "border": null,
            "bottom": null,
            "display": null,
            "flex": null,
            "flex_flow": null,
            "grid_area": null,
            "grid_auto_columns": null,
            "grid_auto_flow": null,
            "grid_auto_rows": null,
            "grid_column": null,
            "grid_gap": null,
            "grid_row": null,
            "grid_template_areas": null,
            "grid_template_columns": null,
            "grid_template_rows": null,
            "height": null,
            "justify_content": null,
            "justify_items": null,
            "left": null,
            "margin": null,
            "max_height": null,
            "max_width": null,
            "min_height": null,
            "min_width": null,
            "object_fit": null,
            "object_position": null,
            "order": null,
            "overflow": null,
            "overflow_x": null,
            "overflow_y": null,
            "padding": null,
            "right": null,
            "top": null,
            "visibility": null,
            "width": null
          }
        },
        "f6d8519d3c8841a5aa366be406b53985": {
          "model_module": "@jupyter-widgets/controls",
          "model_name": "DescriptionStyleModel",
          "model_module_version": "1.5.0",
          "state": {
            "_model_module": "@jupyter-widgets/controls",
            "_model_module_version": "1.5.0",
            "_model_name": "DescriptionStyleModel",
            "_view_count": null,
            "_view_module": "@jupyter-widgets/base",
            "_view_module_version": "1.2.0",
            "_view_name": "StyleView",
            "description_width": ""
          }
        },
        "4128ad1a3d574612a03aec608439550e": {
          "model_module": "@jupyter-widgets/base",
          "model_name": "LayoutModel",
          "model_module_version": "1.2.0",
          "state": {
            "_model_module": "@jupyter-widgets/base",
            "_model_module_version": "1.2.0",
            "_model_name": "LayoutModel",
            "_view_count": null,
            "_view_module": "@jupyter-widgets/base",
            "_view_module_version": "1.2.0",
            "_view_name": "LayoutView",
            "align_content": null,
            "align_items": null,
            "align_self": null,
            "border": null,
            "bottom": null,
            "display": null,
            "flex": null,
            "flex_flow": null,
            "grid_area": null,
            "grid_auto_columns": null,
            "grid_auto_flow": null,
            "grid_auto_rows": null,
            "grid_column": null,
            "grid_gap": null,
            "grid_row": null,
            "grid_template_areas": null,
            "grid_template_columns": null,
            "grid_template_rows": null,
            "height": null,
            "justify_content": null,
            "justify_items": null,
            "left": null,
            "margin": null,
            "max_height": null,
            "max_width": null,
            "min_height": null,
            "min_width": null,
            "object_fit": null,
            "object_position": null,
            "order": null,
            "overflow": null,
            "overflow_x": null,
            "overflow_y": null,
            "padding": null,
            "right": null,
            "top": null,
            "visibility": null,
            "width": null
          }
        },
        "b7f5e48de1f24f99ae4731941d56584c": {
          "model_module": "@jupyter-widgets/controls",
          "model_name": "ProgressStyleModel",
          "model_module_version": "1.5.0",
          "state": {
            "_model_module": "@jupyter-widgets/controls",
            "_model_module_version": "1.5.0",
            "_model_name": "ProgressStyleModel",
            "_view_count": null,
            "_view_module": "@jupyter-widgets/base",
            "_view_module_version": "1.2.0",
            "_view_name": "StyleView",
            "bar_color": null,
            "description_width": ""
          }
        },
        "a11258d5654c42b6a51c091f6941d343": {
          "model_module": "@jupyter-widgets/base",
          "model_name": "LayoutModel",
          "model_module_version": "1.2.0",
          "state": {
            "_model_module": "@jupyter-widgets/base",
            "_model_module_version": "1.2.0",
            "_model_name": "LayoutModel",
            "_view_count": null,
            "_view_module": "@jupyter-widgets/base",
            "_view_module_version": "1.2.0",
            "_view_name": "LayoutView",
            "align_content": null,
            "align_items": null,
            "align_self": null,
            "border": null,
            "bottom": null,
            "display": null,
            "flex": null,
            "flex_flow": null,
            "grid_area": null,
            "grid_auto_columns": null,
            "grid_auto_flow": null,
            "grid_auto_rows": null,
            "grid_column": null,
            "grid_gap": null,
            "grid_row": null,
            "grid_template_areas": null,
            "grid_template_columns": null,
            "grid_template_rows": null,
            "height": null,
            "justify_content": null,
            "justify_items": null,
            "left": null,
            "margin": null,
            "max_height": null,
            "max_width": null,
            "min_height": null,
            "min_width": null,
            "object_fit": null,
            "object_position": null,
            "order": null,
            "overflow": null,
            "overflow_x": null,
            "overflow_y": null,
            "padding": null,
            "right": null,
            "top": null,
            "visibility": null,
            "width": null
          }
        },
        "a9f6530e293f4d88962ce4d180551fb7": {
          "model_module": "@jupyter-widgets/controls",
          "model_name": "DescriptionStyleModel",
          "model_module_version": "1.5.0",
          "state": {
            "_model_module": "@jupyter-widgets/controls",
            "_model_module_version": "1.5.0",
            "_model_name": "DescriptionStyleModel",
            "_view_count": null,
            "_view_module": "@jupyter-widgets/base",
            "_view_module_version": "1.2.0",
            "_view_name": "StyleView",
            "description_width": ""
          }
        },
        "6376b2ee2475443ead43601068d4858d": {
          "model_module": "@jupyter-widgets/controls",
          "model_name": "HBoxModel",
          "model_module_version": "1.5.0",
          "state": {
            "_dom_classes": [],
            "_model_module": "@jupyter-widgets/controls",
            "_model_module_version": "1.5.0",
            "_model_name": "HBoxModel",
            "_view_count": null,
            "_view_module": "@jupyter-widgets/controls",
            "_view_module_version": "1.5.0",
            "_view_name": "HBoxView",
            "box_style": "",
            "children": [
              "IPY_MODEL_b374585835524ee6bf5f9724d90e2dda",
              "IPY_MODEL_dd4550af1fa143708ce1a5719bfe6459",
              "IPY_MODEL_fca5c0f71ac0495a93a2291d8210d0fe"
            ],
            "layout": "IPY_MODEL_97bbf87d76d14d1e919a4e21c66a4166"
          }
        },
        "b374585835524ee6bf5f9724d90e2dda": {
          "model_module": "@jupyter-widgets/controls",
          "model_name": "HTMLModel",
          "model_module_version": "1.5.0",
          "state": {
            "_dom_classes": [],
            "_model_module": "@jupyter-widgets/controls",
            "_model_module_version": "1.5.0",
            "_model_name": "HTMLModel",
            "_view_count": null,
            "_view_module": "@jupyter-widgets/controls",
            "_view_module_version": "1.5.0",
            "_view_name": "HTMLView",
            "description": "",
            "description_tooltip": null,
            "layout": "IPY_MODEL_dc0897e83e3549b3bbc00a0b3f950027",
            "placeholder": "​",
            "style": "IPY_MODEL_31b7754bc65942c2b4e026eabe118595",
            "value": "100%"
          }
        },
        "dd4550af1fa143708ce1a5719bfe6459": {
          "model_module": "@jupyter-widgets/controls",
          "model_name": "FloatProgressModel",
          "model_module_version": "1.5.0",
          "state": {
            "_dom_classes": [],
            "_model_module": "@jupyter-widgets/controls",
            "_model_module_version": "1.5.0",
            "_model_name": "FloatProgressModel",
            "_view_count": null,
            "_view_module": "@jupyter-widgets/controls",
            "_view_module_version": "1.5.0",
            "_view_name": "ProgressView",
            "bar_style": "success",
            "description": "",
            "description_tooltip": null,
            "layout": "IPY_MODEL_8c5596dc1dfb4736971276da7250ac1f",
            "max": 553433881,
            "min": 0,
            "orientation": "horizontal",
            "style": "IPY_MODEL_148bf6b3fbfc4fa0bc5fc6270d915a85",
            "value": 553433881
          }
        },
        "fca5c0f71ac0495a93a2291d8210d0fe": {
          "model_module": "@jupyter-widgets/controls",
          "model_name": "HTMLModel",
          "model_module_version": "1.5.0",
          "state": {
            "_dom_classes": [],
            "_model_module": "@jupyter-widgets/controls",
            "_model_module_version": "1.5.0",
            "_model_name": "HTMLModel",
            "_view_count": null,
            "_view_module": "@jupyter-widgets/controls",
            "_view_module_version": "1.5.0",
            "_view_name": "HTMLView",
            "description": "",
            "description_tooltip": null,
            "layout": "IPY_MODEL_b6a45417afc7483a88dc641bc58e873e",
            "placeholder": "​",
            "style": "IPY_MODEL_dc9974dde09e49aa88049bf0cb318f60",
            "value": " 528M/528M [00:04&lt;00:00, 117MB/s]"
          }
        },
        "97bbf87d76d14d1e919a4e21c66a4166": {
          "model_module": "@jupyter-widgets/base",
          "model_name": "LayoutModel",
          "model_module_version": "1.2.0",
          "state": {
            "_model_module": "@jupyter-widgets/base",
            "_model_module_version": "1.2.0",
            "_model_name": "LayoutModel",
            "_view_count": null,
            "_view_module": "@jupyter-widgets/base",
            "_view_module_version": "1.2.0",
            "_view_name": "LayoutView",
            "align_content": null,
            "align_items": null,
            "align_self": null,
            "border": null,
            "bottom": null,
            "display": null,
            "flex": null,
            "flex_flow": null,
            "grid_area": null,
            "grid_auto_columns": null,
            "grid_auto_flow": null,
            "grid_auto_rows": null,
            "grid_column": null,
            "grid_gap": null,
            "grid_row": null,
            "grid_template_areas": null,
            "grid_template_columns": null,
            "grid_template_rows": null,
            "height": null,
            "justify_content": null,
            "justify_items": null,
            "left": null,
            "margin": null,
            "max_height": null,
            "max_width": null,
            "min_height": null,
            "min_width": null,
            "object_fit": null,
            "object_position": null,
            "order": null,
            "overflow": null,
            "overflow_x": null,
            "overflow_y": null,
            "padding": null,
            "right": null,
            "top": null,
            "visibility": null,
            "width": null
          }
        },
        "dc0897e83e3549b3bbc00a0b3f950027": {
          "model_module": "@jupyter-widgets/base",
          "model_name": "LayoutModel",
          "model_module_version": "1.2.0",
          "state": {
            "_model_module": "@jupyter-widgets/base",
            "_model_module_version": "1.2.0",
            "_model_name": "LayoutModel",
            "_view_count": null,
            "_view_module": "@jupyter-widgets/base",
            "_view_module_version": "1.2.0",
            "_view_name": "LayoutView",
            "align_content": null,
            "align_items": null,
            "align_self": null,
            "border": null,
            "bottom": null,
            "display": null,
            "flex": null,
            "flex_flow": null,
            "grid_area": null,
            "grid_auto_columns": null,
            "grid_auto_flow": null,
            "grid_auto_rows": null,
            "grid_column": null,
            "grid_gap": null,
            "grid_row": null,
            "grid_template_areas": null,
            "grid_template_columns": null,
            "grid_template_rows": null,
            "height": null,
            "justify_content": null,
            "justify_items": null,
            "left": null,
            "margin": null,
            "max_height": null,
            "max_width": null,
            "min_height": null,
            "min_width": null,
            "object_fit": null,
            "object_position": null,
            "order": null,
            "overflow": null,
            "overflow_x": null,
            "overflow_y": null,
            "padding": null,
            "right": null,
            "top": null,
            "visibility": null,
            "width": null
          }
        },
        "31b7754bc65942c2b4e026eabe118595": {
          "model_module": "@jupyter-widgets/controls",
          "model_name": "DescriptionStyleModel",
          "model_module_version": "1.5.0",
          "state": {
            "_model_module": "@jupyter-widgets/controls",
            "_model_module_version": "1.5.0",
            "_model_name": "DescriptionStyleModel",
            "_view_count": null,
            "_view_module": "@jupyter-widgets/base",
            "_view_module_version": "1.2.0",
            "_view_name": "StyleView",
            "description_width": ""
          }
        },
        "8c5596dc1dfb4736971276da7250ac1f": {
          "model_module": "@jupyter-widgets/base",
          "model_name": "LayoutModel",
          "model_module_version": "1.2.0",
          "state": {
            "_model_module": "@jupyter-widgets/base",
            "_model_module_version": "1.2.0",
            "_model_name": "LayoutModel",
            "_view_count": null,
            "_view_module": "@jupyter-widgets/base",
            "_view_module_version": "1.2.0",
            "_view_name": "LayoutView",
            "align_content": null,
            "align_items": null,
            "align_self": null,
            "border": null,
            "bottom": null,
            "display": null,
            "flex": null,
            "flex_flow": null,
            "grid_area": null,
            "grid_auto_columns": null,
            "grid_auto_flow": null,
            "grid_auto_rows": null,
            "grid_column": null,
            "grid_gap": null,
            "grid_row": null,
            "grid_template_areas": null,
            "grid_template_columns": null,
            "grid_template_rows": null,
            "height": null,
            "justify_content": null,
            "justify_items": null,
            "left": null,
            "margin": null,
            "max_height": null,
            "max_width": null,
            "min_height": null,
            "min_width": null,
            "object_fit": null,
            "object_position": null,
            "order": null,
            "overflow": null,
            "overflow_x": null,
            "overflow_y": null,
            "padding": null,
            "right": null,
            "top": null,
            "visibility": null,
            "width": null
          }
        },
        "148bf6b3fbfc4fa0bc5fc6270d915a85": {
          "model_module": "@jupyter-widgets/controls",
          "model_name": "ProgressStyleModel",
          "model_module_version": "1.5.0",
          "state": {
            "_model_module": "@jupyter-widgets/controls",
            "_model_module_version": "1.5.0",
            "_model_name": "ProgressStyleModel",
            "_view_count": null,
            "_view_module": "@jupyter-widgets/base",
            "_view_module_version": "1.2.0",
            "_view_name": "StyleView",
            "bar_color": null,
            "description_width": ""
          }
        },
        "b6a45417afc7483a88dc641bc58e873e": {
          "model_module": "@jupyter-widgets/base",
          "model_name": "LayoutModel",
          "model_module_version": "1.2.0",
          "state": {
            "_model_module": "@jupyter-widgets/base",
            "_model_module_version": "1.2.0",
            "_model_name": "LayoutModel",
            "_view_count": null,
            "_view_module": "@jupyter-widgets/base",
            "_view_module_version": "1.2.0",
            "_view_name": "LayoutView",
            "align_content": null,
            "align_items": null,
            "align_self": null,
            "border": null,
            "bottom": null,
            "display": null,
            "flex": null,
            "flex_flow": null,
            "grid_area": null,
            "grid_auto_columns": null,
            "grid_auto_flow": null,
            "grid_auto_rows": null,
            "grid_column": null,
            "grid_gap": null,
            "grid_row": null,
            "grid_template_areas": null,
            "grid_template_columns": null,
            "grid_template_rows": null,
            "height": null,
            "justify_content": null,
            "justify_items": null,
            "left": null,
            "margin": null,
            "max_height": null,
            "max_width": null,
            "min_height": null,
            "min_width": null,
            "object_fit": null,
            "object_position": null,
            "order": null,
            "overflow": null,
            "overflow_x": null,
            "overflow_y": null,
            "padding": null,
            "right": null,
            "top": null,
            "visibility": null,
            "width": null
          }
        },
        "dc9974dde09e49aa88049bf0cb318f60": {
          "model_module": "@jupyter-widgets/controls",
          "model_name": "DescriptionStyleModel",
          "model_module_version": "1.5.0",
          "state": {
            "_model_module": "@jupyter-widgets/controls",
            "_model_module_version": "1.5.0",
            "_model_name": "DescriptionStyleModel",
            "_view_count": null,
            "_view_module": "@jupyter-widgets/base",
            "_view_module_version": "1.2.0",
            "_view_name": "StyleView",
            "description_width": ""
          }
        }
      }
    }
  },
  "nbformat": 4,
  "nbformat_minor": 0
}